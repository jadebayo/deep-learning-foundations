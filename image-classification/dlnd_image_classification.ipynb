{
 "cells": [
  {
   "cell_type": "markdown",
   "metadata": {
    "collapsed": true,
    "deletable": true,
    "editable": true
   },
   "source": [
    "# Image Classification\n",
    "In this project, you'll classify images from the [CIFAR-10 dataset](https://www.cs.toronto.edu/~kriz/cifar.html).  The dataset consists of airplanes, dogs, cats, and other objects. You'll preprocess the images, then train a convolutional neural network on all the samples. The images need to be normalized and the labels need to be one-hot encoded.  You'll get to apply what you learned and build a convolutional, max pooling, dropout, and fully connected layers.  At the end, you'll get to see your neural network's predictions on the sample images.\n",
    "## Get the Data\n",
    "Run the following cell to download the [CIFAR-10 dataset for python](https://www.cs.toronto.edu/~kriz/cifar-10-python.tar.gz)."
   ]
  },
  {
   "cell_type": "code",
   "execution_count": 5,
   "metadata": {
    "collapsed": false,
    "deletable": true,
    "editable": true
   },
   "outputs": [
    {
     "name": "stdout",
     "output_type": "stream",
     "text": [
      "All files found!\n"
     ]
    }
   ],
   "source": [
    "\"\"\"\n",
    "DON'T MODIFY ANYTHING IN THIS CELL THAT IS BELOW THIS LINE\n",
    "\"\"\"\n",
    "from urllib.request import urlretrieve\n",
    "from os.path import isfile, isdir\n",
    "from tqdm import tqdm\n",
    "import problem_unittests as tests\n",
    "import tarfile\n",
    "\n",
    "cifar10_dataset_folder_path = 'cifar-10-batches-py'\n",
    "\n",
    "# Use Floyd's cifar-10 dataset if present\n",
    "floyd_cifar10_location = '/input/cifar-10/python.tar.gz'\n",
    "if isfile(floyd_cifar10_location):\n",
    "    tar_gz_path = floyd_cifar10_location\n",
    "else:\n",
    "    tar_gz_path = 'cifar-10-python.tar.gz'\n",
    "\n",
    "class DLProgress(tqdm):\n",
    "    last_block = 0\n",
    "\n",
    "    def hook(self, block_num=1, block_size=1, total_size=None):\n",
    "        self.total = total_size\n",
    "        self.update((block_num - self.last_block) * block_size)\n",
    "        self.last_block = block_num\n",
    "\n",
    "if not isfile(tar_gz_path):\n",
    "    with DLProgress(unit='B', unit_scale=True, miniters=1, desc='CIFAR-10 Dataset') as pbar:\n",
    "        urlretrieve(\n",
    "            'https://www.cs.toronto.edu/~kriz/cifar-10-python.tar.gz',\n",
    "            tar_gz_path,\n",
    "            pbar.hook)\n",
    "\n",
    "if not isdir(cifar10_dataset_folder_path):\n",
    "    with tarfile.open(tar_gz_path) as tar:\n",
    "        tar.extractall()\n",
    "        tar.close()\n",
    "\n",
    "\n",
    "tests.test_folder_path(cifar10_dataset_folder_path)"
   ]
  },
  {
   "cell_type": "markdown",
   "metadata": {
    "deletable": true,
    "editable": true
   },
   "source": [
    "## Explore the Data\n",
    "The dataset is broken into batches to prevent your machine from running out of memory.  The CIFAR-10 dataset consists of 5 batches, named `data_batch_1`, `data_batch_2`, etc.. Each batch contains the labels and images that are one of the following:\n",
    "* airplane\n",
    "* automobile\n",
    "* bird\n",
    "* cat\n",
    "* deer\n",
    "* dog\n",
    "* frog\n",
    "* horse\n",
    "* ship\n",
    "* truck\n",
    "\n",
    "Understanding a dataset is part of making predictions on the data.  Play around with the code cell below by changing the `batch_id` and `sample_id`. The `batch_id` is the id for a batch (1-5). The `sample_id` is the id for a image and label pair in the batch.\n",
    "\n",
    "Ask yourself \"What are all possible labels?\", \"What is the range of values for the image data?\", \"Are the labels in order or random?\".  Answers to questions like these will help you preprocess the data and end up with better predictions."
   ]
  },
  {
   "cell_type": "code",
   "execution_count": 6,
   "metadata": {
    "collapsed": false,
    "deletable": true,
    "editable": true
   },
   "outputs": [
    {
     "name": "stdout",
     "output_type": "stream",
     "text": [
      "\n",
      "Stats of batch 1:\n",
      "Samples: 10000\n",
      "Label Counts: {0: 1005, 1: 974, 2: 1032, 3: 1016, 4: 999, 5: 937, 6: 1030, 7: 1001, 8: 1025, 9: 981}\n",
      "First 20 Labels: [6, 9, 9, 4, 1, 1, 2, 7, 8, 3, 4, 7, 7, 2, 9, 9, 9, 3, 2, 6]\n",
      "\n",
      "Example of Image 50:\n",
      "Image - Min Value: 8 Max Value: 243\n",
      "Image - Shape: (32, 32, 3)\n",
      "Label - Label Id: 9 Name: truck\n"
     ]
    },
    {
     "data": {
      "image/png": "[encoded data removed]",
      "text/plain": [
       "<matplotlib.figure.Figure at 0x7ff06804ff28>"
      ]
     },
     "metadata": {
      "image/png": {
       "height": 250,
       "width": 253
      }
     },
     "output_type": "display_data"
    }
   ],
   "source": [
    "%matplotlib inline\n",
    "%config InlineBackend.figure_format = 'retina'\n",
    "\n",
    "import helper\n",
    "import numpy as np\n",
    "\n",
    "# Explore the dataset\n",
    "batch_id = 1\n",
    "sample_id = 50\n",
    "helper.display_stats(cifar10_dataset_folder_path, batch_id, sample_id)"
   ]
  },
  {
   "cell_type": "markdown",
   "metadata": {
    "deletable": true,
    "editable": true
   },
   "source": [
    "## Implement Preprocess Functions\n",
    "### Normalize\n",
    "In the cell below, implement the `normalize` function to take in image data, `x`, and return it as a normalized Numpy array. The values should be in the range of 0 to 1, inclusive.  The return object should be the same shape as `x`."
   ]
  },
  {
   "cell_type": "code",
   "execution_count": 7,
   "metadata": {
    "collapsed": false,
    "deletable": true,
    "editable": true
   },
   "outputs": [
    {
     "name": "stdout",
     "output_type": "stream",
     "text": [
      "Tests Passed\n"
     ]
    }
   ],
   "source": [
    "def normalize(x):\n",
    "    \"\"\"\n",
    "    Normalize a list of sample image data in the range of 0 to 1\n",
    "    : x: List of image data.  The image shape is (32, 32, 3)\n",
    "    : return: Numpy array of normalize data\n",
    "    \"\"\"\n",
    "    # TODO: Implement Function\n",
    "    x = np.array(x,dtype=np.float32)\n",
    "    xmin = np.min(x)\n",
    "    xmax = np.max(x)\n",
    "    x_norm = np.apply_along_axis(lambda m: (m-xmin)/(xmax-xmin), 1, x)\n",
    "    return x_norm\n",
    "\n",
    "\n",
    "\"\"\"\n",
    "DON'T MODIFY ANYTHING IN THIS CELL THAT IS BELOW THIS LINE\n",
    "\"\"\"\n",
    "tests.test_normalize(normalize)"
   ]
  },
  {
   "cell_type": "markdown",
   "metadata": {
    "deletable": true,
    "editable": true
   },
   "source": [
    "### One-hot encode\n",
    "Just like the previous code cell, you'll be implementing a function for preprocessing.  This time, you'll implement the `one_hot_encode` function. The input, `x`, are a list of labels.  Implement the function to return the list of labels as One-Hot encoded Numpy array.  The possible values for labels are 0 to 9. The one-hot encoding function should return the same encoding for each value between each call to `one_hot_encode`.  Make sure to save the map of encodings outside the function.\n",
    "\n",
    "Hint: Don't reinvent the wheel."
   ]
  },
  {
   "cell_type": "code",
   "execution_count": 8,
   "metadata": {
    "collapsed": false,
    "deletable": true,
    "editable": true
   },
   "outputs": [
    {
     "name": "stdout",
     "output_type": "stream",
     "text": [
      "Tests Passed\n"
     ]
    }
   ],
   "source": [
    "def one_hot_encode(x):\n",
    "    \"\"\"\n",
    "    One hot encode a list of sample labels. Return a one-hot encoded vector for each label.\n",
    "    : x: List of sample Labels\n",
    "    : return: Numpy array of one-hot encoded labels\n",
    "    \"\"\"\n",
    "    one_hot = np.zeros((len(x), 10), dtype=np.int)\n",
    "    for i in range(len(x)):\n",
    "            one_hot[i][x[i]] =  1   \n",
    "    return one_hot\n",
    "\n",
    "\n",
    "\"\"\"\n",
    "DON'T MODIFY ANYTHING IN THIS CELL THAT IS BELOW THIS LINE\n",
    "\"\"\"\n",
    "tests.test_one_hot_encode(one_hot_encode)"
   ]
  },
  {
   "cell_type": "markdown",
   "metadata": {
    "deletable": true,
    "editable": true
   },
   "source": [
    "### Randomize Data\n",
    "As you saw from exploring the data above, the order of the samples are randomized.  It doesn't hurt to randomize it again, but you don't need to for this dataset."
   ]
  },
  {
   "cell_type": "markdown",
   "metadata": {
    "deletable": true,
    "editable": true
   },
   "source": [
    "## Preprocess all the data and save it\n",
    "Running the code cell below will preprocess all the CIFAR-10 data and save it to file. The code below also uses 10% of the training data for validation."
   ]
  },
  {
   "cell_type": "code",
   "execution_count": 9,
   "metadata": {
    "collapsed": false,
    "deletable": true,
    "editable": true
   },
   "outputs": [],
   "source": [
    "\"\"\"\n",
    "DON'T MODIFY ANYTHING IN THIS CELL\n",
    "\"\"\"\n",
    "# Preprocess Training, Validation, and Testing Data\n",
    "helper.preprocess_and_save_data(cifar10_dataset_folder_path, normalize, one_hot_encode)"
   ]
  },
  {
   "cell_type": "markdown",
   "metadata": {
    "deletable": true,
    "editable": true
   },
   "source": [
    "# Check Point\n",
    "This is your first checkpoint.  If you ever decide to come back to this notebook or have to restart the notebook, you can start from here.  The preprocessed data has been saved to disk."
   ]
  },
  {
   "cell_type": "code",
   "execution_count": 10,
   "metadata": {
    "collapsed": false,
    "deletable": true,
    "editable": true
   },
   "outputs": [],
   "source": [
    "\"\"\"\n",
    "DON'T MODIFY ANYTHING IN THIS CELL\n",
    "\"\"\"\n",
    "import pickle\n",
    "import problem_unittests as tests\n",
    "import helper\n",
    "\n",
    "# Load the Preprocessed Validation data\n",
    "valid_features, valid_labels = pickle.load(open('preprocess_validation.p', mode='rb'))"
   ]
  },
  {
   "cell_type": "markdown",
   "metadata": {
    "deletable": true,
    "editable": true
   },
   "source": [
    "## Build the network\n",
    "For the neural network, you'll build each layer into a function.  Most of the code you've seen has been outside of functions. To test your code more thoroughly, we require that you put each layer in a function.  This allows us to give you better feedback and test for simple mistakes using our unittests before you submit your project.\n",
    "\n",
    ">**Note:** If you're finding it hard to dedicate enough time for this course each week, we've provided a small shortcut to this part of the project. In the next couple of problems, you'll have the option to use classes from the [TensorFlow Layers](https://www.tensorflow.org/api_docs/python/tf/layers) or [TensorFlow Layers (contrib)](https://www.tensorflow.org/api_guides/python/contrib.layers) packages to build each layer, except the layers you build in the \"Convolutional and Max Pooling Layer\" section.  TF Layers is similar to Keras's and TFLearn's abstraction to layers, so it's easy to pickup.\n",
    "\n",
    ">However, if you would like to get the most out of this course, try to solve all the problems _without_ using anything from the TF Layers packages. You **can** still use classes from other packages that happen to have the same name as ones you find in TF Layers! For example, instead of using the TF Layers version of the `conv2d` class, [tf.layers.conv2d](https://www.tensorflow.org/api_docs/python/tf/layers/conv2d), you would want to use the TF Neural Network version of `conv2d`, [tf.nn.conv2d](https://www.tensorflow.org/api_docs/python/tf/nn/conv2d). \n",
    "\n",
    "Let's begin!\n",
    "\n",
    "### Input\n",
    "The neural network needs to read the image data, one-hot encoded labels, and dropout keep probability. Implement the following functions\n",
    "* Implement `neural_net_image_input`\n",
    " * Return a [TF Placeholder](https://www.tensorflow.org/api_docs/python/tf/placeholder)\n",
    " * Set the shape using `image_shape` with batch size set to `None`.\n",
    " * Name the TensorFlow placeholder \"x\" using the TensorFlow `name` parameter in the [TF Placeholder](https://www.tensorflow.org/api_docs/python/tf/placeholder).\n",
    "* Implement `neural_net_label_input`\n",
    " * Return a [TF Placeholder](https://www.tensorflow.org/api_docs/python/tf/placeholder)\n",
    " * Set the shape using `n_classes` with batch size set to `None`.\n",
    " * Name the TensorFlow placeholder \"y\" using the TensorFlow `name` parameter in the [TF Placeholder](https://www.tensorflow.org/api_docs/python/tf/placeholder).\n",
    "* Implement `neural_net_keep_prob_input`\n",
    " * Return a [TF Placeholder](https://www.tensorflow.org/api_docs/python/tf/placeholder) for dropout keep probability.\n",
    " * Name the TensorFlow placeholder \"keep_prob\" using the TensorFlow `name` parameter in the [TF Placeholder](https://www.tensorflow.org/api_docs/python/tf/placeholder).\n",
    "\n",
    "These names will be used at the end of the project to load your saved model.\n",
    "\n",
    "Note: `None` for shapes in TensorFlow allow for a dynamic size."
   ]
  },
  {
   "cell_type": "code",
   "execution_count": 11,
   "metadata": {
    "collapsed": false,
    "deletable": true,
    "editable": true
   },
   "outputs": [
    {
     "name": "stdout",
     "output_type": "stream",
     "text": [
      "Image Input Tests Passed.\n",
      "Label Input Tests Passed.\n",
      "Keep Prob Tests Passed.\n"
     ]
    }
   ],
   "source": [
    "import tensorflow as tf\n",
    "\n",
    "def neural_net_image_input(image_shape):\n",
    "    \"\"\"\n",
    "    Return a Tensor for a bach of image input\n",
    "    : image_shape: Shape of the images\n",
    "    : return: Tensor for image input.\n",
    "    \"\"\"\n",
    "    # TODO: Implement Function\n",
    "    input = tf.placeholder(tf.float32, name='x', shape=[None,image_shape[0], image_shape[1], image_shape[2]])\n",
    "    return input\n",
    "\n",
    "\n",
    "def neural_net_label_input(n_classes):\n",
    "    \"\"\"\n",
    "    Return a Tensor for a batch of label input\n",
    "    : n_classes: Number of classes\n",
    "    : return: Tensor for label input.\n",
    "    \"\"\"\n",
    "    input = tf.placeholder(tf.int32, name='y', shape=[None, n_classes])\n",
    "    return input\n",
    "\n",
    "\n",
    "def neural_net_keep_prob_input():\n",
    "    \"\"\"\n",
    "    Return a Tensor for keep probability\n",
    "    : return: Tensor for keep probability.\n",
    "    \"\"\"\n",
    "    input = tf.placeholder(tf.float32, name='keep_prob')\n",
    "    return input\n",
    "\n",
    "\n",
    "\"\"\"\n",
    "DON'T MODIFY ANYTHING IN THIS CELL THAT IS BELOW THIS LINE\n",
    "\"\"\"\n",
    "tf.reset_default_graph()\n",
    "tests.test_nn_image_inputs(neural_net_image_input)\n",
    "tests.test_nn_label_inputs(neural_net_label_input)\n",
    "tests.test_nn_keep_prob_inputs(neural_net_keep_prob_input)"
   ]
  },
  {
   "cell_type": "markdown",
   "metadata": {
    "deletable": true,
    "editable": true
   },
   "source": [
    "### Convolution and Max Pooling Layer\n",
    "Convolution layers have a lot of success with images. For this code cell, you should implement the function `conv2d_maxpool` to apply convolution then max pooling:\n",
    "* Create the weight and bias using `conv_ksize`, `conv_num_outputs` and the shape of `x_tensor`.\n",
    "* Apply a convolution to `x_tensor` using weight and `conv_strides`.\n",
    " * We recommend you use same padding, but you're welcome to use any padding.\n",
    "* Add bias\n",
    "* Add a nonlinear activation to the convolution.\n",
    "* Apply Max Pooling using `pool_ksize` and `pool_strides`.\n",
    " * We recommend you use same padding, but you're welcome to use any padding.\n",
    "\n",
    "**Note:** You **can't** use [TensorFlow Layers](https://www.tensorflow.org/api_docs/python/tf/layers) or [TensorFlow Layers (contrib)](https://www.tensorflow.org/api_guides/python/contrib.layers) for **this** layer, but you can still use TensorFlow's [Neural Network](https://www.tensorflow.org/api_docs/python/tf/nn) package. You may still use the shortcut option for all the **other** layers."
   ]
  },
  {
   "cell_type": "code",
   "execution_count": 32,
   "metadata": {
    "collapsed": false,
    "deletable": true,
    "editable": true
   },
   "outputs": [
    {
     "name": "stdout",
     "output_type": "stream",
     "text": [
      "Tests Passed\n"
     ]
    }
   ],
   "source": [
    "def conv2d_maxpool(x_tensor, conv_num_outputs, conv_ksize, conv_strides, pool_ksize, pool_strides):\n",
    "    \"\"\"\n",
    "    Apply convolution then max pooling to x_tensor\n",
    "    :param x_tensor: TensorFlow Tensor\n",
    "    :param conv_num_outputs: Number of outputs for the convolutional layer\n",
    "    :param conv_ksize: kernal size 2-D Tuple for the convolutional layer\n",
    "    :param conv_strides: Stride 2-D Tuple for convolution\n",
    "    :param pool_ksize: kernal size 2-D Tuple for pool\n",
    "    :param pool_strides: Stride 2-D Tuple for pool\n",
    "    : return: A tensor that represents convolution and max pooling of x_tensor\n",
    "    \"\"\"\n",
    "    # TODO: Implement Function\n",
    "    weights = tf.Variable(tf.truncated_normal([conv_ksize[0], conv_ksize[1], x_tensor.get_shape()[3].value, conv_num_outputs], stddev=0.1))\n",
    "    biases = tf.Variable(tf.zeros(conv_num_outputs))\n",
    "    x_tensor = tf.nn.conv2d(x_tensor,weights,strides=[1, conv_strides[0], conv_strides[1], 1], padding='SAME')\n",
    "    x_tensor = tf.nn.bias_add(x_tensor, biases)\n",
    "    x_tensor =tf.nn.relu(x_tensor)\n",
    "    x_tensor = tf.nn.max_pool(x_tensor, ksize=[1, pool_ksize[0], pool_ksize[1], 1], strides=[1, pool_strides[0], pool_strides[1], 1], padding='SAME')\n",
    "    return x_tensor\n",
    "\n",
    "\n",
    "\"\"\"\n",
    "DON'T MODIFY ANYTHING IN THIS CELL THAT IS BELOW THIS LINE\n",
    "\"\"\"\n",
    "tests.test_con_pool(conv2d_maxpool)"
   ]
  },
  {
   "cell_type": "code",
   "execution_count": null,
   "metadata": {
    "collapsed": true,
    "deletable": true,
    "editable": true
   },
   "outputs": [],
   "source": []
  },
  {
   "cell_type": "markdown",
   "metadata": {
    "deletable": true,
    "editable": true
   },
   "source": [
    "### Flatten Layer\n",
    "Implement the `flatten` function to change the dimension of `x_tensor` from a 4-D tensor to a 2-D tensor.  The output should be the shape (*Batch Size*, *Flattened Image Size*). Shortcut option: you can use classes from the [TensorFlow Layers](https://www.tensorflow.org/api_docs/python/tf/layers) or [TensorFlow Layers (contrib)](https://www.tensorflow.org/api_guides/python/contrib.layers) packages for this layer. For more of a challenge, only use other TensorFlow packages."
   ]
  },
  {
   "cell_type": "code",
   "execution_count": 33,
   "metadata": {
    "collapsed": false,
    "deletable": true,
    "editable": true
   },
   "outputs": [
    {
     "name": "stdout",
     "output_type": "stream",
     "text": [
      "Tests Passed\n"
     ]
    }
   ],
   "source": [
    "def flatten(x_tensor):\n",
    "    \"\"\"\n",
    "    Flatten x_tensor to (Batch Size, Flattened Image Size)\n",
    "    : x_tensor: A tensor of size (Batch Size, ...), where ... are the image dimensions.\n",
    "    : return: A tensor of size (Batch Size, Flattened Image Size).\n",
    "    \"\"\"\n",
    "    # TODO: Implement Function\n",
    "    shape = x_tensor.get_shape().as_list()       \n",
    "    dim = np.prod(shape[1:])  \n",
    "    return tf.reshape(x_tensor, [-1, dim])\n",
    "\n",
    "\n",
    "\"\"\"\n",
    "DON'T MODIFY ANYTHING IN THIS CELL THAT IS BELOW THIS LINE\n",
    "\"\"\"\n",
    "tests.test_flatten(flatten)"
   ]
  },
  {
   "cell_type": "markdown",
   "metadata": {
    "deletable": true,
    "editable": true
   },
   "source": [
    "### Fully-Connected Layer\n",
    "Implement the `fully_conn` function to apply a fully connected layer to `x_tensor` with the shape (*Batch Size*, *num_outputs*). Shortcut option: you can use classes from the [TensorFlow Layers](https://www.tensorflow.org/api_docs/python/tf/layers) or [TensorFlow Layers (contrib)](https://www.tensorflow.org/api_guides/python/contrib.layers) packages for this layer. For more of a challenge, only use other TensorFlow packages."
   ]
  },
  {
   "cell_type": "code",
   "execution_count": 34,
   "metadata": {
    "collapsed": false,
    "deletable": true,
    "editable": true
   },
   "outputs": [
    {
     "name": "stdout",
     "output_type": "stream",
     "text": [
      "Tests Passed\n"
     ]
    }
   ],
   "source": [
    "def fully_conn(x_tensor, num_outputs):\n",
    "    \"\"\"\n",
    "    Apply a fully connected layer to x_tensor using weight and bias\n",
    "    : x_tensor: A 2-D tensor where the first dimension is batch size.\n",
    "    : num_outputs: The number of output that the new tensor should be.\n",
    "    : return: A 2-D tensor where the second dimension is num_outputs.\n",
    "    \"\"\"\n",
    "    # TODO: Implement Function\n",
    "    features = x_tensor.get_shape()[1].value\n",
    "    weight = tf.Variable(tf.truncated_normal([features, num_outputs], stddev=0.1))\n",
    "    bias = tf.Variable(tf.zeros([num_outputs]))\n",
    "    \n",
    "    return tf.nn.relu(tf.add(tf.matmul(x_tensor, weight),bias))\n",
    "\n",
    "\n",
    "\"\"\"\n",
    "DON'T MODIFY ANYTHING IN THIS CELL THAT IS BELOW THIS LINE\n",
    "\"\"\"\n",
    "tests.test_fully_conn(fully_conn)"
   ]
  },
  {
   "cell_type": "markdown",
   "metadata": {
    "deletable": true,
    "editable": true
   },
   "source": [
    "### Output Layer\n",
    "Implement the `output` function to apply a fully connected layer to `x_tensor` with the shape (*Batch Size*, *num_outputs*). Shortcut option: you can use classes from the [TensorFlow Layers](https://www.tensorflow.org/api_docs/python/tf/layers) or [TensorFlow Layers (contrib)](https://www.tensorflow.org/api_guides/python/contrib.layers) packages for this layer. For more of a challenge, only use other TensorFlow packages.\n",
    "\n",
    "**Note:** Activation, softmax, or cross entropy should **not** be applied to this."
   ]
  },
  {
   "cell_type": "code",
   "execution_count": 35,
   "metadata": {
    "collapsed": false,
    "deletable": true,
    "editable": true
   },
   "outputs": [
    {
     "name": "stdout",
     "output_type": "stream",
     "text": [
      "Tests Passed\n"
     ]
    }
   ],
   "source": [
    "def output(x_tensor, num_outputs):\n",
    "    \"\"\"\n",
    "    Apply a output layer to x_tensor using weight and bias\n",
    "    : x_tensor: A 2-D tensor where the first dimension is batch size.\n",
    "    : num_outputs: The number of output that the new tensor should be.\n",
    "    : return: A 2-D tensor where the second dimension is num_outputs.\n",
    "    \"\"\"\n",
    "    # TODO: Implement Functionl\n",
    "    return fully_conn(x_tensor, num_outputs)\n",
    "\n",
    "\n",
    "\"\"\"\n",
    "DON'T MODIFY ANYTHING IN THIS CELL THAT IS BELOW THIS LINE\n",
    "\"\"\"\n",
    "tests.test_output(output)"
   ]
  },
  {
   "cell_type": "markdown",
   "metadata": {
    "deletable": true,
    "editable": true
   },
   "source": [
    "### Create Convolutional Model\n",
    "Implement the function `conv_net` to create a convolutional neural network model. The function takes in a batch of images, `x`, and outputs logits.  Use the layers you created above to create this model:\n",
    "\n",
    "* Apply 1, 2, or 3 Convolution and Max Pool layers\n",
    "* Apply a Flatten Layer\n",
    "* Apply 1, 2, or 3 Fully Connected Layers\n",
    "* Apply an Output Layer\n",
    "* Return the output\n",
    "* Apply [TensorFlow's Dropout](https://www.tensorflow.org/api_docs/python/tf/nn/dropout) to one or more layers in the model using `keep_prob`. "
   ]
  },
  {
   "cell_type": "code",
   "execution_count": 36,
   "metadata": {
    "collapsed": false,
    "deletable": true,
    "editable": true
   },
   "outputs": [
    {
     "name": "stdout",
     "output_type": "stream",
     "text": [
      "Neural Network Built!\n"
     ]
    }
   ],
   "source": [
    "def conv_net(x, keep_prob):\n",
    "    \"\"\"\n",
    "    Create a convolutional neural network model\n",
    "    : x: Placeholder tensor that holds image data.\n",
    "    : keep_prob: Placeholder tensor that hold dropout keep probability.\n",
    "    : return: Tensor that represents logits\n",
    "    \"\"\"\n",
    "    # TODO: Apply 1, 2, or 3 Convolution and Max Pool layers\n",
    "    #    Play around with different number of outputs, kernel size and stride\n",
    "    # Function Definition from Above:\n",
    "    #    conv2d_maxpool(x_tensor, conv_num_outputs, conv_ksize, conv_strides, pool_ksize, pool_strides)\n",
    "    conv = conv2d_maxpool(x, 16, (3,3),(1,1), (2,2), (1,1))\n",
    "    conv = conv2d_maxpool(conv, 16,(3,3),(1,1), (2,2), (1,1))\n",
    "    conv = conv2d_maxpool(conv, 32,(3,3),(1,1), (2,2), (1,1))\n",
    "    # TODO: Apply a Flatten Layer\n",
    "    # Function Definition from Above:\n",
    "    #   flatten(x_tensor)\n",
    "    fc = flatten(conv)\n",
    "\n",
    "    # TODO: Apply 1, 2, or 3 Fully Connected Layers\n",
    "    #    Play around with different number of outputs\n",
    "    # Function Definition from Above:\n",
    "    #   fully_conn(x_tensor, num_outputs)\n",
    "    \n",
    "    fc = fully_conn(fc, 512)\n",
    "    fc = tf.nn.dropout(fc, keep_prob)\n",
    "    fc = fully_conn(fc, 64)\n",
    "    fc = tf.nn.dropout(fc, keep_prob)\n",
    "    \n",
    "    \n",
    "    # TODO: Apply an Output Layer\n",
    "    #    Set this to the number of classes\n",
    "    # Function Definition from Above:\n",
    "    #   output(x_tensor, num_outputs)\n",
    "    out = output(fc, 10)\n",
    "    \n",
    "    # TODO: return output\n",
    "    return out\n",
    "\n",
    "\n",
    "\"\"\"\n",
    "DON'T MODIFY ANYTHING IN THIS CELL THAT IS BELOW THIS LINE\n",
    "\"\"\"\n",
    "\n",
    "##############################\n",
    "## Build the Neural Network ##\n",
    "##############################\n",
    "\n",
    "# Remove previous weights, bias, inputs, etc..\n",
    "tf.reset_default_graph()\n",
    "\n",
    "# Inputs\n",
    "x = neural_net_image_input((32, 32, 3))\n",
    "y = neural_net_label_input(10)\n",
    "keep_prob = neural_net_keep_prob_input()\n",
    "\n",
    "# Model\n",
    "logits = conv_net(x, keep_prob)\n",
    "\n",
    "# Name logits Tensor, so that is can be loaded from disk after training\n",
    "logits = tf.identity(logits, name='logits')\n",
    "\n",
    "# Loss and Optimizer\n",
    "cost = tf.reduce_mean(tf.nn.softmax_cross_entropy_with_logits(logits=logits, labels=y))\n",
    "optimizer = tf.train.AdamOptimizer().minimize(cost)\n",
    "\n",
    "# Accuracy\n",
    "correct_pred = tf.equal(tf.argmax(logits, 1), tf.argmax(y, 1))\n",
    "accuracy = tf.reduce_mean(tf.cast(correct_pred, tf.float32), name='accuracy')\n",
    "\n",
    "tests.test_conv_net(conv_net)"
   ]
  },
  {
   "cell_type": "markdown",
   "metadata": {
    "deletable": true,
    "editable": true
   },
   "source": [
    "## Train the Neural Network\n",
    "### Single Optimization\n",
    "Implement the function `train_neural_network` to do a single optimization.  The optimization should use `optimizer` to optimize in `session` with a `feed_dict` of the following:\n",
    "* `x` for image input\n",
    "* `y` for labels\n",
    "* `keep_prob` for keep probability for dropout\n",
    "\n",
    "This function will be called for each batch, so `tf.global_variables_initializer()` has already been called.\n",
    "\n",
    "Note: Nothing needs to be returned. This function is only optimizing the neural network."
   ]
  },
  {
   "cell_type": "code",
   "execution_count": 37,
   "metadata": {
    "collapsed": false,
    "deletable": true,
    "editable": true
   },
   "outputs": [
    {
     "name": "stdout",
     "output_type": "stream",
     "text": [
      "Tests Passed\n"
     ]
    }
   ],
   "source": [
    "def train_neural_network(session, optimizer, keep_probability, feature_batch, label_batch):\n",
    "    \"\"\"\n",
    "    Optimize the session on a batch of images and labels\n",
    "    : session: Current TensorFlow session\n",
    "    : optimizer: TensorFlow optimizer function\n",
    "    : keep_probability: keep probability\n",
    "    : feature_batch: Batch of Numpy image data\n",
    "    : label_batch: Batch of Numpy label data\n",
    "    \"\"\"\n",
    "    # TODO: Implement Function\n",
    "    session.run(optimizer, feed_dict={x:feature_batch, y:label_batch, keep_prob:keep_probability})\n",
    "\n",
    "\n",
    "\n",
    "\"\"\"\n",
    "DON'T MODIFY ANYTHING IN THIS CELL THAT IS BELOW THIS LINE\n",
    "\"\"\"\n",
    "tests.test_train_nn(train_neural_network)"
   ]
  },
  {
   "cell_type": "markdown",
   "metadata": {
    "deletable": true,
    "editable": true
   },
   "source": [
    "### Show Stats\n",
    "Implement the function `print_stats` to print loss and validation accuracy.  Use the global variables `valid_features` and `valid_labels` to calculate validation accuracy.  Use a keep probability of `1.0` to calculate the loss and validation accuracy."
   ]
  },
  {
   "cell_type": "code",
   "execution_count": 56,
   "metadata": {
    "collapsed": false,
    "deletable": true,
    "editable": true
   },
   "outputs": [],
   "source": [
    "def print_stats(session, feature_batch, label_batch, cost, accuracy):\n",
    "    \"\"\"\n",
    "    Print information about loss and validation accuracy\n",
    "    : session: Current TensorFlow session\n",
    "    : feature_batch: Batch of Numpy image data\n",
    "    : label_batch: Batch of Numpy label data\n",
    "    : cost: TensorFlow cost function\n",
    "    : accuracy: TensorFlow accuracy function\n",
    "    \"\"\"\n",
    "    # TODO: Implement Function\n",
    "    loss = session.run(cost, feed_dict={x:feature_batch, y:label_batch, keep_prob:1.0})\n",
    "    valid_acc = session.run(accuracy, feed_dict={x:valid_features, y:valid_labels, keep_prob:1.0})\n",
    "\n",
    "    print('Loss: {:>10.5f} Validation Accuracy: {:.2f}%'.format(loss,valid_acc*100))"
   ]
  },
  {
   "cell_type": "markdown",
   "metadata": {
    "deletable": true,
    "editable": true
   },
   "source": [
    "### Hyperparameters\n",
    "Tune the following parameters:\n",
    "* Set `epochs` to the number of iterations until the network stops learning or start overfitting\n",
    "* Set `batch_size` to the highest number that your machine has memory for.  Most people set them to common sizes of memory:\n",
    " * 64\n",
    " * 128\n",
    " * 256\n",
    " * ...\n",
    "* Set `keep_probability` to the probability of keeping a node using dropout"
   ]
  },
  {
   "cell_type": "code",
   "execution_count": 57,
   "metadata": {
    "collapsed": true,
    "deletable": true,
    "editable": true
   },
   "outputs": [],
   "source": [
    "# TODO: Tune Parameters\n",
    "epochs = 100\n",
    "batch_size = 128\n",
    "keep_probability = 0.75"
   ]
  },
  {
   "cell_type": "markdown",
   "metadata": {
    "deletable": true,
    "editable": true
   },
   "source": [
    "### Train on a Single CIFAR-10 Batch\n",
    "Instead of training the neural network on all the CIFAR-10 batches of data, let's use a single batch. This should save time while you iterate on the model to get a better accuracy.  Once the final validation accuracy is 50% or greater, run the model on all the data in the next section."
   ]
  },
  {
   "cell_type": "code",
   "execution_count": 58,
   "metadata": {
    "collapsed": false,
    "deletable": true,
    "editable": true
   },
   "outputs": [
    {
     "name": "stdout",
     "output_type": "stream",
     "text": [
      "Checking the Training on a Single Batch...\n",
      "Epoch  1, CIFAR-10 Batch 1:  Loss:    2.19803 Validation Accuracy: 24.22%\n",
      "Epoch  2, CIFAR-10 Batch 1:  Loss:    2.07079 Validation Accuracy: 29.86%\n",
      "Epoch  3, CIFAR-10 Batch 1:  Loss:    1.73336 Validation Accuracy: 39.28%\n",
      "Epoch  4, CIFAR-10 Batch 1:  Loss:    1.46357 Validation Accuracy: 44.52%\n",
      "Epoch  5, CIFAR-10 Batch 1:  Loss:    1.12428 Validation Accuracy: 51.78%\n",
      "Epoch  6, CIFAR-10 Batch 1:  Loss:    0.81695 Validation Accuracy: 53.06%\n",
      "Epoch  7, CIFAR-10 Batch 1:  Loss:    0.69517 Validation Accuracy: 55.58%\n",
      "Epoch  8, CIFAR-10 Batch 1:  Loss:    0.55759 Validation Accuracy: 55.26%\n",
      "Epoch  9, CIFAR-10 Batch 1:  Loss:    0.44544 Validation Accuracy: 56.22%\n",
      "Epoch 10, CIFAR-10 Batch 1:  Loss:    0.30110 Validation Accuracy: 57.10%\n",
      "Epoch 11, CIFAR-10 Batch 1:  Loss:    0.19574 Validation Accuracy: 57.82%\n",
      "Epoch 12, CIFAR-10 Batch 1:  Loss:    0.17530 Validation Accuracy: 56.14%\n",
      "Epoch 13, CIFAR-10 Batch 1:  Loss:    0.15633 Validation Accuracy: 54.24%\n",
      "Epoch 14, CIFAR-10 Batch 1:  Loss:    0.14303 Validation Accuracy: 55.26%\n",
      "Epoch 15, CIFAR-10 Batch 1:  Loss:    0.05879 Validation Accuracy: 55.96%\n",
      "Epoch 16, CIFAR-10 Batch 1:  Loss:    0.02835 Validation Accuracy: 56.18%\n",
      "Epoch 17, CIFAR-10 Batch 1:  Loss:    0.02628 Validation Accuracy: 57.06%\n",
      "Epoch 18, CIFAR-10 Batch 1:  Loss:    0.01513 Validation Accuracy: 57.64%\n",
      "Epoch 19, CIFAR-10 Batch 1:  Loss:    0.01793 Validation Accuracy: 57.04%\n",
      "Epoch 20, CIFAR-10 Batch 1:  Loss:    0.01909 Validation Accuracy: 56.36%\n",
      "Epoch 21, CIFAR-10 Batch 1:  Loss:    0.01919 Validation Accuracy: 56.70%\n",
      "Epoch 22, CIFAR-10 Batch 1:  Loss:    0.01195 Validation Accuracy: 54.60%\n",
      "Epoch 23, CIFAR-10 Batch 1:  Loss:    0.00520 Validation Accuracy: 55.22%\n",
      "Epoch 24, CIFAR-10 Batch 1:  Loss:    0.00233 Validation Accuracy: 57.38%\n",
      "Epoch 25, CIFAR-10 Batch 1:  Loss:    0.00364 Validation Accuracy: 55.42%\n",
      "Epoch 26, CIFAR-10 Batch 1:  Loss:    0.00083 Validation Accuracy: 58.02%\n",
      "Epoch 27, CIFAR-10 Batch 1:  Loss:    0.00283 Validation Accuracy: 57.24%\n",
      "Epoch 28, CIFAR-10 Batch 1:  Loss:    0.00206 Validation Accuracy: 57.34%\n",
      "Epoch 29, CIFAR-10 Batch 1:  Loss:    0.00136 Validation Accuracy: 57.90%\n",
      "Epoch 30, CIFAR-10 Batch 1:  Loss:    0.00063 Validation Accuracy: 56.72%\n",
      "Epoch 31, CIFAR-10 Batch 1:  Loss:    0.00038 Validation Accuracy: 58.20%\n",
      "Epoch 32, CIFAR-10 Batch 1:  Loss:    0.00058 Validation Accuracy: 57.16%\n",
      "Epoch 33, CIFAR-10 Batch 1:  Loss:    0.00052 Validation Accuracy: 57.30%\n",
      "Epoch 34, CIFAR-10 Batch 1:  Loss:    0.00072 Validation Accuracy: 57.70%\n",
      "Epoch 35, CIFAR-10 Batch 1:  Loss:    0.00042 Validation Accuracy: 57.24%\n",
      "Epoch 36, CIFAR-10 Batch 1:  Loss:    0.00135 Validation Accuracy: 57.60%\n",
      "Epoch 37, CIFAR-10 Batch 1:  Loss:    0.00038 Validation Accuracy: 57.02%\n",
      "Epoch 38, CIFAR-10 Batch 1:  Loss:    0.00034 Validation Accuracy: 57.26%\n",
      "Epoch 39, CIFAR-10 Batch 1:  Loss:    0.00015 Validation Accuracy: 58.34%\n",
      "Epoch 40, CIFAR-10 Batch 1:  Loss:    0.00044 Validation Accuracy: 56.84%\n",
      "Epoch 41, CIFAR-10 Batch 1:  Loss:    0.00024 Validation Accuracy: 57.10%\n",
      "Epoch 42, CIFAR-10 Batch 1:  Loss:    0.00057 Validation Accuracy: 56.46%\n",
      "Epoch 43, CIFAR-10 Batch 1:  Loss:    0.00024 Validation Accuracy: 56.92%\n",
      "Epoch 44, CIFAR-10 Batch 1:  Loss:    0.00034 Validation Accuracy: 56.36%\n",
      "Epoch 45, CIFAR-10 Batch 1:  Loss:    0.00019 Validation Accuracy: 56.86%\n",
      "Epoch 46, CIFAR-10 Batch 1:  Loss:    0.00031 Validation Accuracy: 55.64%\n",
      "Epoch 47, CIFAR-10 Batch 1:  Loss:    0.00009 Validation Accuracy: 56.14%\n",
      "Epoch 48, CIFAR-10 Batch 1:  Loss:    0.00009 Validation Accuracy: 56.84%\n",
      "Epoch 49, CIFAR-10 Batch 1:  Loss:    0.00004 Validation Accuracy: 56.62%\n",
      "Epoch 50, CIFAR-10 Batch 1:  Loss:    0.00049 Validation Accuracy: 57.08%\n",
      "Epoch 51, CIFAR-10 Batch 1:  Loss:    0.00018 Validation Accuracy: 57.46%\n",
      "Epoch 52, CIFAR-10 Batch 1:  Loss:    0.00037 Validation Accuracy: 56.72%\n",
      "Epoch 53, CIFAR-10 Batch 1:  Loss:    0.00007 Validation Accuracy: 57.68%\n",
      "Epoch 54, CIFAR-10 Batch 1:  Loss:    0.00056 Validation Accuracy: 55.56%\n",
      "Epoch 55, CIFAR-10 Batch 1:  Loss:    0.00579 Validation Accuracy: 56.20%\n",
      "Epoch 56, CIFAR-10 Batch 1:  Loss:    0.00050 Validation Accuracy: 56.86%\n",
      "Epoch 57, CIFAR-10 Batch 1:  Loss:    0.00007 Validation Accuracy: 57.02%\n",
      "Epoch 58, CIFAR-10 Batch 1:  Loss:    0.00005 Validation Accuracy: 57.10%\n",
      "Epoch 59, CIFAR-10 Batch 1:  Loss:    0.00001 Validation Accuracy: 56.94%\n",
      "Epoch 60, CIFAR-10 Batch 1:  Loss:    0.00002 Validation Accuracy: 56.50%\n",
      "Epoch 61, CIFAR-10 Batch 1:  Loss:    0.00009 Validation Accuracy: 56.90%\n",
      "Epoch 62, CIFAR-10 Batch 1:  Loss:    0.00002 Validation Accuracy: 58.04%\n",
      "Epoch 63, CIFAR-10 Batch 1:  Loss:    0.00002 Validation Accuracy: 57.92%\n",
      "Epoch 64, CIFAR-10 Batch 1:  Loss:    0.00003 Validation Accuracy: 58.28%\n",
      "Epoch 65, CIFAR-10 Batch 1:  Loss:    0.00003 Validation Accuracy: 57.04%\n",
      "Epoch 66, CIFAR-10 Batch 1:  Loss:    0.00023 Validation Accuracy: 57.58%\n",
      "Epoch 67, CIFAR-10 Batch 1:  Loss:    0.00089 Validation Accuracy: 56.38%\n",
      "Epoch 68, CIFAR-10 Batch 1:  Loss:    0.00039 Validation Accuracy: 56.84%\n",
      "Epoch 69, CIFAR-10 Batch 1:  Loss:    0.00011 Validation Accuracy: 56.14%\n",
      "Epoch 70, CIFAR-10 Batch 1:  Loss:    0.00001 Validation Accuracy: 58.12%\n",
      "Epoch 71, CIFAR-10 Batch 1:  Loss:    0.00005 Validation Accuracy: 56.34%\n",
      "Epoch 72, CIFAR-10 Batch 1:  Loss:    0.00002 Validation Accuracy: 56.48%\n",
      "Epoch 73, CIFAR-10 Batch 1:  Loss:    0.00003 Validation Accuracy: 58.32%\n",
      "Epoch 74, CIFAR-10 Batch 1:  Loss:    0.00009 Validation Accuracy: 56.66%\n",
      "Epoch 75, CIFAR-10 Batch 1:  Loss:    0.00144 Validation Accuracy: 54.12%\n",
      "Epoch 76, CIFAR-10 Batch 1:  Loss:    0.00003 Validation Accuracy: 57.38%\n",
      "Epoch 77, CIFAR-10 Batch 1:  Loss:    0.00002 Validation Accuracy: 57.36%\n",
      "Epoch 78, CIFAR-10 Batch 1:  Loss:    0.00005 Validation Accuracy: 55.84%\n",
      "Epoch 79, CIFAR-10 Batch 1:  Loss:    0.00048 Validation Accuracy: 54.62%\n",
      "Epoch 80, CIFAR-10 Batch 1:  Loss:    0.00020 Validation Accuracy: 57.96%\n",
      "Epoch 81, CIFAR-10 Batch 1:  Loss:    0.00003 Validation Accuracy: 56.76%\n",
      "Epoch 82, CIFAR-10 Batch 1:  Loss:    0.00004 Validation Accuracy: 57.98%\n",
      "Epoch 83, CIFAR-10 Batch 1:  Loss:    0.00003 Validation Accuracy: 56.64%\n",
      "Epoch 84, CIFAR-10 Batch 1:  Loss:    0.00001 Validation Accuracy: 57.46%\n",
      "Epoch 85, CIFAR-10 Batch 1:  Loss:    0.00001 Validation Accuracy: 56.70%\n",
      "Epoch 86, CIFAR-10 Batch 1:  Loss:    0.00001 Validation Accuracy: 57.44%\n",
      "Epoch 87, CIFAR-10 Batch 1:  Loss:    0.00037 Validation Accuracy: 55.72%\n",
      "Epoch 88, CIFAR-10 Batch 1:  Loss:    0.00005 Validation Accuracy: 56.32%\n",
      "Epoch 89, CIFAR-10 Batch 1:  Loss:    0.00001 Validation Accuracy: 57.14%\n",
      "Epoch 90, CIFAR-10 Batch 1:  Loss:    0.00001 Validation Accuracy: 57.16%\n",
      "Epoch 91, CIFAR-10 Batch 1:  Loss:    0.00002 Validation Accuracy: 57.20%\n",
      "Epoch 92, CIFAR-10 Batch 1:  Loss:    0.00005 Validation Accuracy: 55.38%\n",
      "Epoch 93, CIFAR-10 Batch 1:  Loss:    0.00004 Validation Accuracy: 56.36%\n",
      "Epoch 94, CIFAR-10 Batch 1:  Loss:    0.00002 Validation Accuracy: 57.76%\n",
      "Epoch 95, CIFAR-10 Batch 1:  Loss:    0.00032 Validation Accuracy: 55.44%\n",
      "Epoch 96, CIFAR-10 Batch 1:  Loss:    0.00000 Validation Accuracy: 56.94%\n",
      "Epoch 97, CIFAR-10 Batch 1:  Loss:    0.00002 Validation Accuracy: 56.02%\n",
      "Epoch 98, CIFAR-10 Batch 1:  Loss:    0.00003 Validation Accuracy: 56.40%\n",
      "Epoch 99, CIFAR-10 Batch 1:  Loss:    0.00000 Validation Accuracy: 56.68%\n",
      "Epoch 100, CIFAR-10 Batch 1:  Loss:    0.00000 Validation Accuracy: 56.96%\n"
     ]
    }
   ],
   "source": [
    "\"\"\"\n",
    "DON'T MODIFY ANYTHING IN THIS CELL\n",
    "\"\"\"\n",
    "print('Checking the Training on a Single Batch...')\n",
    "with tf.Session() as sess:\n",
    "    # Initializing the variables\n",
    "    sess.run(tf.global_variables_initializer())\n",
    "    \n",
    "    # Training cycle\n",
    "    for epoch in range(epochs):\n",
    "        batch_i = 1\n",
    "        for batch_features, batch_labels in helper.load_preprocess_training_batch(batch_i, batch_size):\n",
    "            train_neural_network(sess, optimizer, keep_probability, batch_features, batch_labels)\n",
    "        print('Epoch {:>2}, CIFAR-10 Batch {}:  '.format(epoch + 1, batch_i), end='')\n",
    "        print_stats(sess, batch_features, batch_labels, cost, accuracy)"
   ]
  },
  {
   "cell_type": "markdown",
   "metadata": {
    "deletable": true,
    "editable": true
   },
   "source": [
    "### Fully Train the Model\n",
    "Now that you got a good accuracy with a single CIFAR-10 batch, try it with all five batches."
   ]
  },
  {
   "cell_type": "code",
   "execution_count": 60,
   "metadata": {
    "collapsed": false,
    "deletable": true,
    "editable": true
   },
   "outputs": [
    {
     "name": "stdout",
     "output_type": "stream",
     "text": [
      "Training...\n",
      "Epoch  1, CIFAR-10 Batch 1:  Loss:    2.19453 Validation Accuracy: 27.26%\n",
      "Epoch  1, CIFAR-10 Batch 2:  Loss:    1.58693 Validation Accuracy: 39.28%\n",
      "Epoch  1, CIFAR-10 Batch 3:  Loss:    1.22382 Validation Accuracy: 45.98%\n",
      "Epoch  1, CIFAR-10 Batch 4:  Loss:    1.40704 Validation Accuracy: 49.64%\n",
      "Epoch  1, CIFAR-10 Batch 5:  Loss:    1.44300 Validation Accuracy: 53.06%\n",
      "Epoch  2, CIFAR-10 Batch 1:  Loss:    1.35046 Validation Accuracy: 55.60%\n",
      "Epoch  2, CIFAR-10 Batch 2:  Loss:    1.04445 Validation Accuracy: 55.66%\n",
      "Epoch  2, CIFAR-10 Batch 3:  Loss:    0.94316 Validation Accuracy: 55.12%\n",
      "Epoch  2, CIFAR-10 Batch 4:  Loss:    1.02911 Validation Accuracy: 58.40%\n",
      "Epoch  2, CIFAR-10 Batch 5:  Loss:    0.89913 Validation Accuracy: 59.08%\n",
      "Epoch  3, CIFAR-10 Batch 1:  Loss:    0.97917 Validation Accuracy: 59.94%\n",
      "Epoch  3, CIFAR-10 Batch 2:  Loss:    0.78115 Validation Accuracy: 60.46%\n",
      "Epoch  3, CIFAR-10 Batch 3:  Loss:    0.66313 Validation Accuracy: 60.44%\n",
      "Epoch  3, CIFAR-10 Batch 4:  Loss:    0.69383 Validation Accuracy: 62.46%\n",
      "Epoch  3, CIFAR-10 Batch 5:  Loss:    0.60006 Validation Accuracy: 61.38%\n",
      "Epoch  4, CIFAR-10 Batch 1:  Loss:    0.68560 Validation Accuracy: 63.66%\n",
      "Epoch  4, CIFAR-10 Batch 2:  Loss:    0.54862 Validation Accuracy: 63.20%\n",
      "Epoch  4, CIFAR-10 Batch 3:  Loss:    0.43331 Validation Accuracy: 64.04%\n",
      "Epoch  4, CIFAR-10 Batch 4:  Loss:    0.53728 Validation Accuracy: 64.30%\n",
      "Epoch  4, CIFAR-10 Batch 5:  Loss:    0.32353 Validation Accuracy: 63.32%\n",
      "Epoch  5, CIFAR-10 Batch 1:  Loss:    0.44651 Validation Accuracy: 64.78%\n",
      "Epoch  5, CIFAR-10 Batch 2:  Loss:    0.41098 Validation Accuracy: 64.08%\n",
      "Epoch  5, CIFAR-10 Batch 3:  Loss:    0.26042 Validation Accuracy: 65.20%\n",
      "Epoch  5, CIFAR-10 Batch 4:  Loss:    0.37180 Validation Accuracy: 64.94%\n",
      "Epoch  5, CIFAR-10 Batch 5:  Loss:    0.23057 Validation Accuracy: 64.30%\n",
      "Epoch  6, CIFAR-10 Batch 1:  Loss:    0.34451 Validation Accuracy: 64.40%\n",
      "Epoch  6, CIFAR-10 Batch 2:  Loss:    0.25081 Validation Accuracy: 65.48%\n",
      "Epoch  6, CIFAR-10 Batch 3:  Loss:    0.21905 Validation Accuracy: 63.02%\n",
      "Epoch  6, CIFAR-10 Batch 4:  Loss:    0.23693 Validation Accuracy: 65.52%\n",
      "Epoch  6, CIFAR-10 Batch 5:  Loss:    0.26401 Validation Accuracy: 62.72%\n",
      "Epoch  7, CIFAR-10 Batch 1:  Loss:    0.19088 Validation Accuracy: 65.84%\n",
      "Epoch  7, CIFAR-10 Batch 2:  Loss:    0.19041 Validation Accuracy: 65.04%\n",
      "Epoch  7, CIFAR-10 Batch 3:  Loss:    0.11729 Validation Accuracy: 62.32%\n",
      "Epoch  7, CIFAR-10 Batch 4:  Loss:    0.12563 Validation Accuracy: 65.78%\n",
      "Epoch  7, CIFAR-10 Batch 5:  Loss:    0.14726 Validation Accuracy: 64.12%\n",
      "Epoch  8, CIFAR-10 Batch 1:  Loss:    0.16947 Validation Accuracy: 65.24%\n",
      "Epoch  8, CIFAR-10 Batch 2:  Loss:    0.10262 Validation Accuracy: 65.82%\n",
      "Epoch  8, CIFAR-10 Batch 3:  Loss:    0.08582 Validation Accuracy: 65.36%\n",
      "Epoch  8, CIFAR-10 Batch 4:  Loss:    0.09364 Validation Accuracy: 65.38%\n",
      "Epoch  8, CIFAR-10 Batch 5:  Loss:    0.09071 Validation Accuracy: 65.22%\n",
      "Epoch  9, CIFAR-10 Batch 1:  Loss:    0.09236 Validation Accuracy: 65.70%\n",
      "Epoch  9, CIFAR-10 Batch 2:  Loss:    0.06945 Validation Accuracy: 66.98%\n",
      "Epoch  9, CIFAR-10 Batch 3:  Loss:    0.10219 Validation Accuracy: 64.62%\n",
      "Epoch  9, CIFAR-10 Batch 4:  Loss:    0.04985 Validation Accuracy: 66.08%\n",
      "Epoch  9, CIFAR-10 Batch 5:  Loss:    0.03575 Validation Accuracy: 67.54%\n",
      "Epoch 10, CIFAR-10 Batch 1:  Loss:    0.04498 Validation Accuracy: 67.04%\n",
      "Epoch 10, CIFAR-10 Batch 2:  Loss:    0.03626 Validation Accuracy: 66.18%\n",
      "Epoch 10, CIFAR-10 Batch 3:  Loss:    0.04488 Validation Accuracy: 65.52%\n",
      "Epoch 10, CIFAR-10 Batch 4:  Loss:    0.05596 Validation Accuracy: 66.52%\n",
      "Epoch 10, CIFAR-10 Batch 5:  Loss:    0.04573 Validation Accuracy: 66.06%\n",
      "Epoch 11, CIFAR-10 Batch 1:  Loss:    0.03844 Validation Accuracy: 64.86%\n",
      "Epoch 11, CIFAR-10 Batch 2:  Loss:    0.02441 Validation Accuracy: 65.22%\n",
      "Epoch 11, CIFAR-10 Batch 3:  Loss:    0.01393 Validation Accuracy: 64.72%\n",
      "Epoch 11, CIFAR-10 Batch 4:  Loss:    0.01723 Validation Accuracy: 64.50%\n",
      "Epoch 11, CIFAR-10 Batch 5:  Loss:    0.01554 Validation Accuracy: 65.66%\n",
      "Epoch 12, CIFAR-10 Batch 1:  Loss:    0.03472 Validation Accuracy: 66.08%\n",
      "Epoch 12, CIFAR-10 Batch 2:  Loss:    0.01510 Validation Accuracy: 64.56%\n",
      "Epoch 12, CIFAR-10 Batch 3:  Loss:    0.02045 Validation Accuracy: 64.38%\n",
      "Epoch 12, CIFAR-10 Batch 4:  Loss:    0.01136 Validation Accuracy: 64.88%\n",
      "Epoch 12, CIFAR-10 Batch 5:  Loss:    0.00818 Validation Accuracy: 64.78%\n",
      "Epoch 13, CIFAR-10 Batch 1:  Loss:    0.01989 Validation Accuracy: 65.86%\n",
      "Epoch 13, CIFAR-10 Batch 2:  Loss:    0.00789 Validation Accuracy: 66.10%\n",
      "Epoch 13, CIFAR-10 Batch 3:  Loss:    0.00483 Validation Accuracy: 66.46%\n",
      "Epoch 13, CIFAR-10 Batch 4:  Loss:    0.02141 Validation Accuracy: 65.02%\n",
      "Epoch 13, CIFAR-10 Batch 5:  Loss:    0.00399 Validation Accuracy: 65.96%\n",
      "Epoch 14, CIFAR-10 Batch 1:  Loss:    0.00675 Validation Accuracy: 65.60%\n",
      "Epoch 14, CIFAR-10 Batch 2:  Loss:    0.00301 Validation Accuracy: 66.90%\n",
      "Epoch 14, CIFAR-10 Batch 3:  Loss:    0.00670 Validation Accuracy: 66.10%\n",
      "Epoch 14, CIFAR-10 Batch 4:  Loss:    0.00878 Validation Accuracy: 65.54%\n",
      "Epoch 14, CIFAR-10 Batch 5:  Loss:    0.00170 Validation Accuracy: 66.06%\n",
      "Epoch 15, CIFAR-10 Batch 1:  Loss:    0.00792 Validation Accuracy: 66.44%\n",
      "Epoch 15, CIFAR-10 Batch 2:  Loss:    0.00557 Validation Accuracy: 67.06%\n",
      "Epoch 15, CIFAR-10 Batch 3:  Loss:    0.01022 Validation Accuracy: 65.28%\n",
      "Epoch 15, CIFAR-10 Batch 4:  Loss:    0.01225 Validation Accuracy: 65.26%\n",
      "Epoch 15, CIFAR-10 Batch 5:  Loss:    0.00223 Validation Accuracy: 66.04%\n",
      "Epoch 16, CIFAR-10 Batch 1:  Loss:    0.00764 Validation Accuracy: 65.20%\n",
      "Epoch 16, CIFAR-10 Batch 2:  Loss:    0.00361 Validation Accuracy: 66.70%\n",
      "Epoch 16, CIFAR-10 Batch 3:  Loss:    0.00552 Validation Accuracy: 66.04%\n",
      "Epoch 16, CIFAR-10 Batch 4:  Loss:    0.00834 Validation Accuracy: 65.62%\n",
      "Epoch 16, CIFAR-10 Batch 5:  Loss:    0.00062 Validation Accuracy: 67.12%\n",
      "Epoch 17, CIFAR-10 Batch 1:  Loss:    0.00281 Validation Accuracy: 66.20%\n",
      "Epoch 17, CIFAR-10 Batch 2:  Loss:    0.00268 Validation Accuracy: 66.26%\n",
      "Epoch 17, CIFAR-10 Batch 3:  Loss:    0.00311 Validation Accuracy: 66.84%\n",
      "Epoch 17, CIFAR-10 Batch 4:  Loss:    0.00426 Validation Accuracy: 64.34%\n",
      "Epoch 17, CIFAR-10 Batch 5:  Loss:    0.00105 Validation Accuracy: 66.62%\n",
      "Epoch 18, CIFAR-10 Batch 1:  Loss:    0.00138 Validation Accuracy: 66.32%\n",
      "Epoch 18, CIFAR-10 Batch 2:  Loss:    0.00103 Validation Accuracy: 65.60%\n",
      "Epoch 18, CIFAR-10 Batch 3:  Loss:    0.00140 Validation Accuracy: 65.68%\n",
      "Epoch 18, CIFAR-10 Batch 4:  Loss:    0.00688 Validation Accuracy: 66.04%\n",
      "Epoch 18, CIFAR-10 Batch 5:  Loss:    0.00086 Validation Accuracy: 66.08%\n",
      "Epoch 19, CIFAR-10 Batch 1:  Loss:    0.00742 Validation Accuracy: 65.80%\n",
      "Epoch 19, CIFAR-10 Batch 2:  Loss:    0.00086 Validation Accuracy: 66.42%\n",
      "Epoch 19, CIFAR-10 Batch 3:  Loss:    0.00118 Validation Accuracy: 66.50%\n",
      "Epoch 19, CIFAR-10 Batch 4:  Loss:    0.00385 Validation Accuracy: 64.94%\n",
      "Epoch 19, CIFAR-10 Batch 5:  Loss:    0.00231 Validation Accuracy: 65.98%\n",
      "Epoch 20, CIFAR-10 Batch 1:  Loss:    0.00090 Validation Accuracy: 66.02%\n",
      "Epoch 20, CIFAR-10 Batch 2:  Loss:    0.00069 Validation Accuracy: 67.36%\n",
      "Epoch 20, CIFAR-10 Batch 3:  Loss:    0.00059 Validation Accuracy: 65.82%\n",
      "Epoch 20, CIFAR-10 Batch 4:  Loss:    0.00148 Validation Accuracy: 65.12%\n",
      "Epoch 20, CIFAR-10 Batch 5:  Loss:    0.00024 Validation Accuracy: 67.06%\n",
      "Epoch 21, CIFAR-10 Batch 1:  Loss:    0.00119 Validation Accuracy: 66.28%\n",
      "Epoch 21, CIFAR-10 Batch 2:  Loss:    0.00199 Validation Accuracy: 65.80%\n",
      "Epoch 21, CIFAR-10 Batch 3:  Loss:    0.00101 Validation Accuracy: 66.56%\n",
      "Epoch 21, CIFAR-10 Batch 4:  Loss:    0.00084 Validation Accuracy: 65.94%\n",
      "Epoch 21, CIFAR-10 Batch 5:  Loss:    0.00079 Validation Accuracy: 66.74%\n",
      "Epoch 22, CIFAR-10 Batch 1:  Loss:    0.00103 Validation Accuracy: 66.20%\n",
      "Epoch 22, CIFAR-10 Batch 2:  Loss:    0.00343 Validation Accuracy: 65.90%\n",
      "Epoch 22, CIFAR-10 Batch 3:  Loss:    0.00098 Validation Accuracy: 65.32%\n",
      "Epoch 22, CIFAR-10 Batch 4:  Loss:    0.00029 Validation Accuracy: 66.54%\n",
      "Epoch 22, CIFAR-10 Batch 5:  Loss:    0.00085 Validation Accuracy: 65.78%\n",
      "Epoch 23, CIFAR-10 Batch 1:  Loss:    0.00173 Validation Accuracy: 66.40%\n",
      "Epoch 23, CIFAR-10 Batch 2:  Loss:    0.00026 Validation Accuracy: 66.56%\n",
      "Epoch 23, CIFAR-10 Batch 3:  Loss:    0.00061 Validation Accuracy: 65.82%\n",
      "Epoch 23, CIFAR-10 Batch 4:  Loss:    0.00064 Validation Accuracy: 65.82%\n",
      "Epoch 23, CIFAR-10 Batch 5:  Loss:    0.00097 Validation Accuracy: 65.38%\n",
      "Epoch 24, CIFAR-10 Batch 1:  Loss:    0.00033 Validation Accuracy: 65.68%\n",
      "Epoch 24, CIFAR-10 Batch 2:  Loss:    0.00014 Validation Accuracy: 66.16%\n",
      "Epoch 24, CIFAR-10 Batch 3:  Loss:    0.00025 Validation Accuracy: 66.52%\n",
      "Epoch 24, CIFAR-10 Batch 4:  Loss:    0.00015 Validation Accuracy: 64.90%\n",
      "Epoch 24, CIFAR-10 Batch 5:  Loss:    0.00030 Validation Accuracy: 66.94%\n",
      "Epoch 25, CIFAR-10 Batch 1:  Loss:    0.00526 Validation Accuracy: 64.74%\n",
      "Epoch 25, CIFAR-10 Batch 2:  Loss:    0.00091 Validation Accuracy: 66.26%\n",
      "Epoch 25, CIFAR-10 Batch 3:  Loss:    0.00020 Validation Accuracy: 66.02%\n",
      "Epoch 25, CIFAR-10 Batch 4:  Loss:    0.00024 Validation Accuracy: 64.98%\n",
      "Epoch 25, CIFAR-10 Batch 5:  Loss:    0.00019 Validation Accuracy: 65.56%\n",
      "Epoch 26, CIFAR-10 Batch 1:  Loss:    0.00050 Validation Accuracy: 65.36%\n",
      "Epoch 26, CIFAR-10 Batch 2:  Loss:    0.00312 Validation Accuracy: 65.94%\n",
      "Epoch 26, CIFAR-10 Batch 3:  Loss:    0.00040 Validation Accuracy: 65.82%\n",
      "Epoch 26, CIFAR-10 Batch 4:  Loss:    0.00034 Validation Accuracy: 64.34%\n",
      "Epoch 26, CIFAR-10 Batch 5:  Loss:    0.00009 Validation Accuracy: 66.86%\n",
      "Epoch 27, CIFAR-10 Batch 1:  Loss:    0.02629 Validation Accuracy: 65.40%\n",
      "Epoch 27, CIFAR-10 Batch 2:  Loss:    0.00024 Validation Accuracy: 66.04%\n",
      "Epoch 27, CIFAR-10 Batch 3:  Loss:    0.00134 Validation Accuracy: 66.04%\n",
      "Epoch 27, CIFAR-10 Batch 4:  Loss:    0.00065 Validation Accuracy: 64.34%\n",
      "Epoch 27, CIFAR-10 Batch 5:  Loss:    0.00034 Validation Accuracy: 66.50%\n",
      "Epoch 28, CIFAR-10 Batch 1:  Loss:    0.00148 Validation Accuracy: 66.24%\n",
      "Epoch 28, CIFAR-10 Batch 2:  Loss:    0.00019 Validation Accuracy: 64.70%\n",
      "Epoch 28, CIFAR-10 Batch 3:  Loss:    0.00152 Validation Accuracy: 64.66%\n",
      "Epoch 28, CIFAR-10 Batch 4:  Loss:    0.00058 Validation Accuracy: 64.74%\n",
      "Epoch 28, CIFAR-10 Batch 5:  Loss:    0.00027 Validation Accuracy: 65.94%\n",
      "Epoch 29, CIFAR-10 Batch 1:  Loss:    0.00037 Validation Accuracy: 66.14%\n",
      "Epoch 29, CIFAR-10 Batch 2:  Loss:    0.00052 Validation Accuracy: 66.70%\n",
      "Epoch 29, CIFAR-10 Batch 3:  Loss:    0.00038 Validation Accuracy: 65.98%\n",
      "Epoch 29, CIFAR-10 Batch 4:  Loss:    0.00017 Validation Accuracy: 65.40%\n",
      "Epoch 29, CIFAR-10 Batch 5:  Loss:    0.00020 Validation Accuracy: 66.40%\n",
      "Epoch 30, CIFAR-10 Batch 1:  Loss:    0.00024 Validation Accuracy: 65.88%\n",
      "Epoch 30, CIFAR-10 Batch 2:  Loss:    0.00015 Validation Accuracy: 66.94%\n",
      "Epoch 30, CIFAR-10 Batch 3:  Loss:    0.00018 Validation Accuracy: 66.66%\n",
      "Epoch 30, CIFAR-10 Batch 4:  Loss:    0.00044 Validation Accuracy: 65.74%\n",
      "Epoch 30, CIFAR-10 Batch 5:  Loss:    0.00113 Validation Accuracy: 65.76%\n",
      "Epoch 31, CIFAR-10 Batch 1:  Loss:    0.00087 Validation Accuracy: 65.90%\n",
      "Epoch 31, CIFAR-10 Batch 2:  Loss:    0.00012 Validation Accuracy: 66.16%\n",
      "Epoch 31, CIFAR-10 Batch 3:  Loss:    0.00006 Validation Accuracy: 65.76%\n",
      "Epoch 31, CIFAR-10 Batch 4:  Loss:    0.00018 Validation Accuracy: 64.82%\n",
      "Epoch 31, CIFAR-10 Batch 5:  Loss:    0.00071 Validation Accuracy: 66.58%\n",
      "Epoch 32, CIFAR-10 Batch 1:  Loss:    0.00018 Validation Accuracy: 67.10%\n",
      "Epoch 32, CIFAR-10 Batch 2:  Loss:    0.00053 Validation Accuracy: 65.82%\n",
      "Epoch 32, CIFAR-10 Batch 3:  Loss:    0.00010 Validation Accuracy: 65.84%\n",
      "Epoch 32, CIFAR-10 Batch 4:  Loss:    0.00017 Validation Accuracy: 64.98%\n",
      "Epoch 32, CIFAR-10 Batch 5:  Loss:    0.00223 Validation Accuracy: 65.54%\n",
      "Epoch 33, CIFAR-10 Batch 1:  Loss:    0.00013 Validation Accuracy: 66.14%\n",
      "Epoch 33, CIFAR-10 Batch 2:  Loss:    0.00021 Validation Accuracy: 66.94%\n",
      "Epoch 33, CIFAR-10 Batch 3:  Loss:    0.00012 Validation Accuracy: 66.14%\n",
      "Epoch 33, CIFAR-10 Batch 4:  Loss:    0.00020 Validation Accuracy: 65.70%\n",
      "Epoch 33, CIFAR-10 Batch 5:  Loss:    0.00023 Validation Accuracy: 65.86%\n",
      "Epoch 34, CIFAR-10 Batch 1:  Loss:    0.00043 Validation Accuracy: 65.24%\n",
      "Epoch 34, CIFAR-10 Batch 2:  Loss:    0.00040 Validation Accuracy: 65.98%\n",
      "Epoch 34, CIFAR-10 Batch 3:  Loss:    0.00017 Validation Accuracy: 65.48%\n",
      "Epoch 34, CIFAR-10 Batch 4:  Loss:    0.00073 Validation Accuracy: 65.70%\n",
      "Epoch 34, CIFAR-10 Batch 5:  Loss:    0.00101 Validation Accuracy: 65.30%\n",
      "Epoch 35, CIFAR-10 Batch 1:  Loss:    0.00055 Validation Accuracy: 66.40%\n",
      "Epoch 35, CIFAR-10 Batch 2:  Loss:    0.00013 Validation Accuracy: 65.70%\n",
      "Epoch 35, CIFAR-10 Batch 3:  Loss:    0.00001 Validation Accuracy: 66.30%\n",
      "Epoch 35, CIFAR-10 Batch 4:  Loss:    0.00068 Validation Accuracy: 65.14%\n",
      "Epoch 35, CIFAR-10 Batch 5:  Loss:    0.00031 Validation Accuracy: 66.16%\n",
      "Epoch 36, CIFAR-10 Batch 1:  Loss:    0.00022 Validation Accuracy: 66.24%\n",
      "Epoch 36, CIFAR-10 Batch 2:  Loss:    0.00015 Validation Accuracy: 65.40%\n",
      "Epoch 36, CIFAR-10 Batch 3:  Loss:    0.00023 Validation Accuracy: 64.08%\n",
      "Epoch 36, CIFAR-10 Batch 4:  Loss:    0.00133 Validation Accuracy: 65.76%\n",
      "Epoch 36, CIFAR-10 Batch 5:  Loss:    0.00026 Validation Accuracy: 65.86%\n",
      "Epoch 37, CIFAR-10 Batch 1:  Loss:    0.00008 Validation Accuracy: 65.94%\n",
      "Epoch 37, CIFAR-10 Batch 2:  Loss:    0.00005 Validation Accuracy: 65.74%\n",
      "Epoch 37, CIFAR-10 Batch 3:  Loss:    0.00074 Validation Accuracy: 65.22%\n",
      "Epoch 37, CIFAR-10 Batch 4:  Loss:    0.00172 Validation Accuracy: 66.68%\n",
      "Epoch 37, CIFAR-10 Batch 5:  Loss:    0.00125 Validation Accuracy: 66.04%\n",
      "Epoch 38, CIFAR-10 Batch 1:  Loss:    0.00009 Validation Accuracy: 66.46%\n",
      "Epoch 38, CIFAR-10 Batch 2:  Loss:    0.00011 Validation Accuracy: 64.94%\n",
      "Epoch 38, CIFAR-10 Batch 3:  Loss:    0.00020 Validation Accuracy: 65.98%\n",
      "Epoch 38, CIFAR-10 Batch 4:  Loss:    0.00056 Validation Accuracy: 65.68%\n",
      "Epoch 38, CIFAR-10 Batch 5:  Loss:    0.00027 Validation Accuracy: 66.12%\n",
      "Epoch 39, CIFAR-10 Batch 1:  Loss:    0.00016 Validation Accuracy: 65.72%\n",
      "Epoch 39, CIFAR-10 Batch 2:  Loss:    0.00004 Validation Accuracy: 66.50%\n",
      "Epoch 39, CIFAR-10 Batch 3:  Loss:    0.00036 Validation Accuracy: 66.18%\n",
      "Epoch 39, CIFAR-10 Batch 4:  Loss:    0.00014 Validation Accuracy: 65.98%\n",
      "Epoch 39, CIFAR-10 Batch 5:  Loss:    0.00065 Validation Accuracy: 66.82%\n",
      "Epoch 40, CIFAR-10 Batch 1:  Loss:    0.00035 Validation Accuracy: 65.82%\n",
      "Epoch 40, CIFAR-10 Batch 2:  Loss:    0.00010 Validation Accuracy: 65.26%\n",
      "Epoch 40, CIFAR-10 Batch 3:  Loss:    0.00003 Validation Accuracy: 66.08%\n",
      "Epoch 40, CIFAR-10 Batch 4:  Loss:    0.00023 Validation Accuracy: 65.10%\n",
      "Epoch 40, CIFAR-10 Batch 5:  Loss:    0.00019 Validation Accuracy: 65.38%\n",
      "Epoch 41, CIFAR-10 Batch 1:  Loss:    0.00015 Validation Accuracy: 65.94%\n",
      "Epoch 41, CIFAR-10 Batch 2:  Loss:    0.00035 Validation Accuracy: 65.02%\n",
      "Epoch 41, CIFAR-10 Batch 3:  Loss:    0.00001 Validation Accuracy: 65.32%\n",
      "Epoch 41, CIFAR-10 Batch 4:  Loss:    0.00004 Validation Accuracy: 66.06%\n",
      "Epoch 41, CIFAR-10 Batch 5:  Loss:    0.00025 Validation Accuracy: 65.84%\n",
      "Epoch 42, CIFAR-10 Batch 1:  Loss:    0.00039 Validation Accuracy: 65.66%\n",
      "Epoch 42, CIFAR-10 Batch 2:  Loss:    0.00002 Validation Accuracy: 66.30%\n",
      "Epoch 42, CIFAR-10 Batch 3:  Loss:    0.00013 Validation Accuracy: 65.74%\n",
      "Epoch 42, CIFAR-10 Batch 4:  Loss:    0.00009 Validation Accuracy: 65.18%\n",
      "Epoch 42, CIFAR-10 Batch 5:  Loss:    0.00057 Validation Accuracy: 65.00%\n",
      "Epoch 43, CIFAR-10 Batch 1:  Loss:    0.00043 Validation Accuracy: 65.60%\n",
      "Epoch 43, CIFAR-10 Batch 2:  Loss:    0.00002 Validation Accuracy: 66.10%\n",
      "Epoch 43, CIFAR-10 Batch 3:  Loss:    0.00046 Validation Accuracy: 66.44%\n",
      "Epoch 43, CIFAR-10 Batch 4:  Loss:    0.00003 Validation Accuracy: 66.48%\n",
      "Epoch 43, CIFAR-10 Batch 5:  Loss:    0.00003 Validation Accuracy: 66.36%\n",
      "Epoch 44, CIFAR-10 Batch 1:  Loss:    0.00008 Validation Accuracy: 67.08%\n",
      "Epoch 44, CIFAR-10 Batch 2:  Loss:    0.00005 Validation Accuracy: 66.48%\n",
      "Epoch 44, CIFAR-10 Batch 3:  Loss:    0.00018 Validation Accuracy: 66.72%\n",
      "Epoch 44, CIFAR-10 Batch 4:  Loss:    0.00004 Validation Accuracy: 65.94%\n",
      "Epoch 44, CIFAR-10 Batch 5:  Loss:    0.00008 Validation Accuracy: 66.50%\n",
      "Epoch 45, CIFAR-10 Batch 1:  Loss:    0.00128 Validation Accuracy: 66.00%\n",
      "Epoch 45, CIFAR-10 Batch 2:  Loss:    0.00103 Validation Accuracy: 65.40%\n",
      "Epoch 45, CIFAR-10 Batch 3:  Loss:    0.00001 Validation Accuracy: 66.58%\n",
      "Epoch 45, CIFAR-10 Batch 4:  Loss:    0.00040 Validation Accuracy: 66.48%\n",
      "Epoch 45, CIFAR-10 Batch 5:  Loss:    0.00016 Validation Accuracy: 65.94%\n",
      "Epoch 46, CIFAR-10 Batch 1:  Loss:    0.00039 Validation Accuracy: 65.74%\n",
      "Epoch 46, CIFAR-10 Batch 2:  Loss:    0.00000 Validation Accuracy: 66.02%\n",
      "Epoch 46, CIFAR-10 Batch 3:  Loss:    0.00002 Validation Accuracy: 66.62%\n",
      "Epoch 46, CIFAR-10 Batch 4:  Loss:    0.00192 Validation Accuracy: 66.24%\n",
      "Epoch 46, CIFAR-10 Batch 5:  Loss:    0.00010 Validation Accuracy: 64.88%\n",
      "Epoch 47, CIFAR-10 Batch 1:  Loss:    0.00010 Validation Accuracy: 65.12%\n",
      "Epoch 47, CIFAR-10 Batch 2:  Loss:    0.00006 Validation Accuracy: 65.98%\n",
      "Epoch 47, CIFAR-10 Batch 3:  Loss:    0.00003 Validation Accuracy: 65.00%\n",
      "Epoch 47, CIFAR-10 Batch 4:  Loss:    0.00047 Validation Accuracy: 64.70%\n",
      "Epoch 47, CIFAR-10 Batch 5:  Loss:    0.00007 Validation Accuracy: 65.66%\n",
      "Epoch 48, CIFAR-10 Batch 1:  Loss:    0.00007 Validation Accuracy: 65.80%\n",
      "Epoch 48, CIFAR-10 Batch 2:  Loss:    0.00026 Validation Accuracy: 65.96%\n",
      "Epoch 48, CIFAR-10 Batch 3:  Loss:    0.00003 Validation Accuracy: 65.40%\n",
      "Epoch 48, CIFAR-10 Batch 4:  Loss:    0.00023 Validation Accuracy: 65.52%\n",
      "Epoch 48, CIFAR-10 Batch 5:  Loss:    0.00021 Validation Accuracy: 64.62%\n",
      "Epoch 49, CIFAR-10 Batch 1:  Loss:    0.00050 Validation Accuracy: 66.28%\n",
      "Epoch 49, CIFAR-10 Batch 2:  Loss:    0.00015 Validation Accuracy: 65.48%\n",
      "Epoch 49, CIFAR-10 Batch 3:  Loss:    0.00001 Validation Accuracy: 66.12%\n",
      "Epoch 49, CIFAR-10 Batch 4:  Loss:    0.00014 Validation Accuracy: 66.16%\n",
      "Epoch 49, CIFAR-10 Batch 5:  Loss:    0.00004 Validation Accuracy: 66.14%\n",
      "Epoch 50, CIFAR-10 Batch 1:  Loss:    0.00012 Validation Accuracy: 66.48%\n",
      "Epoch 50, CIFAR-10 Batch 2:  Loss:    0.00011 Validation Accuracy: 65.46%\n",
      "Epoch 50, CIFAR-10 Batch 3:  Loss:    0.00002 Validation Accuracy: 65.84%\n",
      "Epoch 50, CIFAR-10 Batch 4:  Loss:    0.00004 Validation Accuracy: 66.80%\n",
      "Epoch 50, CIFAR-10 Batch 5:  Loss:    0.00013 Validation Accuracy: 66.28%\n",
      "Epoch 51, CIFAR-10 Batch 1:  Loss:    0.00012 Validation Accuracy: 65.76%\n",
      "Epoch 51, CIFAR-10 Batch 2:  Loss:    0.00004 Validation Accuracy: 65.06%\n",
      "Epoch 51, CIFAR-10 Batch 3:  Loss:    0.00001 Validation Accuracy: 66.00%\n",
      "Epoch 51, CIFAR-10 Batch 4:  Loss:    0.00579 Validation Accuracy: 66.14%\n",
      "Epoch 51, CIFAR-10 Batch 5:  Loss:    0.00004 Validation Accuracy: 65.40%\n",
      "Epoch 52, CIFAR-10 Batch 1:  Loss:    0.00003 Validation Accuracy: 65.90%\n",
      "Epoch 52, CIFAR-10 Batch 2:  Loss:    0.00002 Validation Accuracy: 65.78%\n",
      "Epoch 52, CIFAR-10 Batch 3:  Loss:    0.00011 Validation Accuracy: 66.22%\n",
      "Epoch 52, CIFAR-10 Batch 4:  Loss:    0.00441 Validation Accuracy: 65.16%\n",
      "Epoch 52, CIFAR-10 Batch 5:  Loss:    0.00026 Validation Accuracy: 66.54%\n",
      "Epoch 53, CIFAR-10 Batch 1:  Loss:    0.00007 Validation Accuracy: 66.44%\n",
      "Epoch 53, CIFAR-10 Batch 2:  Loss:    0.00031 Validation Accuracy: 66.28%\n",
      "Epoch 53, CIFAR-10 Batch 3:  Loss:    0.00012 Validation Accuracy: 66.06%\n",
      "Epoch 53, CIFAR-10 Batch 4:  Loss:    0.00011 Validation Accuracy: 65.10%\n",
      "Epoch 53, CIFAR-10 Batch 5:  Loss:    0.00004 Validation Accuracy: 64.82%\n",
      "Epoch 54, CIFAR-10 Batch 1:  Loss:    0.00008 Validation Accuracy: 64.50%\n",
      "Epoch 54, CIFAR-10 Batch 2:  Loss:    0.00097 Validation Accuracy: 65.48%\n",
      "Epoch 54, CIFAR-10 Batch 3:  Loss:    0.00000 Validation Accuracy: 66.10%\n",
      "Epoch 54, CIFAR-10 Batch 4:  Loss:    0.00006 Validation Accuracy: 65.84%\n",
      "Epoch 54, CIFAR-10 Batch 5:  Loss:    0.00002 Validation Accuracy: 65.94%\n",
      "Epoch 55, CIFAR-10 Batch 1:  Loss:    0.00022 Validation Accuracy: 65.72%\n",
      "Epoch 55, CIFAR-10 Batch 2:  Loss:    0.00007 Validation Accuracy: 65.86%\n",
      "Epoch 55, CIFAR-10 Batch 3:  Loss:    0.00002 Validation Accuracy: 65.88%\n",
      "Epoch 55, CIFAR-10 Batch 4:  Loss:    0.00012 Validation Accuracy: 66.22%\n",
      "Epoch 55, CIFAR-10 Batch 5:  Loss:    0.00003 Validation Accuracy: 65.94%\n",
      "Epoch 56, CIFAR-10 Batch 1:  Loss:    0.00013 Validation Accuracy: 65.88%\n",
      "Epoch 56, CIFAR-10 Batch 2:  Loss:    0.00003 Validation Accuracy: 65.88%\n",
      "Epoch 56, CIFAR-10 Batch 3:  Loss:    0.00000 Validation Accuracy: 66.48%\n",
      "Epoch 56, CIFAR-10 Batch 4:  Loss:    0.00006 Validation Accuracy: 65.34%\n",
      "Epoch 56, CIFAR-10 Batch 5:  Loss:    0.00005 Validation Accuracy: 65.50%\n",
      "Epoch 57, CIFAR-10 Batch 1:  Loss:    0.00006 Validation Accuracy: 66.46%\n",
      "Epoch 57, CIFAR-10 Batch 2:  Loss:    0.00166 Validation Accuracy: 64.88%\n",
      "Epoch 57, CIFAR-10 Batch 3:  Loss:    0.00023 Validation Accuracy: 65.54%\n",
      "Epoch 57, CIFAR-10 Batch 4:  Loss:    0.00001 Validation Accuracy: 66.18%\n",
      "Epoch 57, CIFAR-10 Batch 5:  Loss:    0.00029 Validation Accuracy: 65.60%\n",
      "Epoch 58, CIFAR-10 Batch 1:  Loss:    0.00003 Validation Accuracy: 65.86%\n",
      "Epoch 58, CIFAR-10 Batch 2:  Loss:    0.00038 Validation Accuracy: 65.80%\n",
      "Epoch 58, CIFAR-10 Batch 3:  Loss:    0.00003 Validation Accuracy: 66.20%\n",
      "Epoch 58, CIFAR-10 Batch 4:  Loss:    0.00011 Validation Accuracy: 65.70%\n",
      "Epoch 58, CIFAR-10 Batch 5:  Loss:    0.00149 Validation Accuracy: 66.68%\n",
      "Epoch 59, CIFAR-10 Batch 1:  Loss:    0.00007 Validation Accuracy: 66.44%\n",
      "Epoch 59, CIFAR-10 Batch 2:  Loss:    0.00022 Validation Accuracy: 65.78%\n",
      "Epoch 59, CIFAR-10 Batch 3:  Loss:    0.00001 Validation Accuracy: 65.10%\n",
      "Epoch 59, CIFAR-10 Batch 4:  Loss:    0.00003 Validation Accuracy: 66.20%\n",
      "Epoch 59, CIFAR-10 Batch 5:  Loss:    0.00004 Validation Accuracy: 64.72%\n",
      "Epoch 60, CIFAR-10 Batch 1:  Loss:    0.00059 Validation Accuracy: 66.06%\n",
      "Epoch 60, CIFAR-10 Batch 2:  Loss:    0.00750 Validation Accuracy: 66.44%\n",
      "Epoch 60, CIFAR-10 Batch 3:  Loss:    0.00012 Validation Accuracy: 65.88%\n",
      "Epoch 60, CIFAR-10 Batch 4:  Loss:    0.00011 Validation Accuracy: 63.96%\n",
      "Epoch 60, CIFAR-10 Batch 5:  Loss:    0.00046 Validation Accuracy: 66.18%\n",
      "Epoch 61, CIFAR-10 Batch 1:  Loss:    0.00002 Validation Accuracy: 65.56%\n",
      "Epoch 61, CIFAR-10 Batch 2:  Loss:    0.00016 Validation Accuracy: 66.74%\n",
      "Epoch 61, CIFAR-10 Batch 3:  Loss:    0.00009 Validation Accuracy: 66.28%\n",
      "Epoch 61, CIFAR-10 Batch 4:  Loss:    0.00002 Validation Accuracy: 66.98%\n",
      "Epoch 61, CIFAR-10 Batch 5:  Loss:    0.00008 Validation Accuracy: 66.90%\n",
      "Epoch 62, CIFAR-10 Batch 1:  Loss:    0.00006 Validation Accuracy: 65.90%\n",
      "Epoch 62, CIFAR-10 Batch 2:  Loss:    0.00020 Validation Accuracy: 66.16%\n",
      "Epoch 62, CIFAR-10 Batch 3:  Loss:    0.00057 Validation Accuracy: 65.96%\n",
      "Epoch 62, CIFAR-10 Batch 4:  Loss:    0.00014 Validation Accuracy: 66.08%\n",
      "Epoch 62, CIFAR-10 Batch 5:  Loss:    0.00003 Validation Accuracy: 66.92%\n",
      "Epoch 63, CIFAR-10 Batch 1:  Loss:    0.00006 Validation Accuracy: 66.92%\n",
      "Epoch 63, CIFAR-10 Batch 2:  Loss:    0.00008 Validation Accuracy: 66.38%\n",
      "Epoch 63, CIFAR-10 Batch 3:  Loss:    0.00003 Validation Accuracy: 66.96%\n",
      "Epoch 63, CIFAR-10 Batch 4:  Loss:    0.00041 Validation Accuracy: 65.58%\n",
      "Epoch 63, CIFAR-10 Batch 5:  Loss:    0.00001 Validation Accuracy: 66.26%\n",
      "Epoch 64, CIFAR-10 Batch 1:  Loss:    0.00001 Validation Accuracy: 67.02%\n",
      "Epoch 64, CIFAR-10 Batch 2:  Loss:    0.00003 Validation Accuracy: 66.04%\n",
      "Epoch 64, CIFAR-10 Batch 3:  Loss:    0.00000 Validation Accuracy: 65.98%\n",
      "Epoch 64, CIFAR-10 Batch 4:  Loss:    0.00042 Validation Accuracy: 66.58%\n",
      "Epoch 64, CIFAR-10 Batch 5:  Loss:    0.00138 Validation Accuracy: 66.12%\n",
      "Epoch 65, CIFAR-10 Batch 1:  Loss:    0.00014 Validation Accuracy: 66.02%\n",
      "Epoch 65, CIFAR-10 Batch 2:  Loss:    0.00021 Validation Accuracy: 66.16%\n",
      "Epoch 65, CIFAR-10 Batch 3:  Loss:    0.00000 Validation Accuracy: 66.04%\n",
      "Epoch 65, CIFAR-10 Batch 4:  Loss:    0.00008 Validation Accuracy: 64.90%\n",
      "Epoch 65, CIFAR-10 Batch 5:  Loss:    0.00003 Validation Accuracy: 66.34%\n",
      "Epoch 66, CIFAR-10 Batch 1:  Loss:    0.00006 Validation Accuracy: 65.42%\n",
      "Epoch 66, CIFAR-10 Batch 2:  Loss:    0.00004 Validation Accuracy: 66.30%\n",
      "Epoch 66, CIFAR-10 Batch 3:  Loss:    0.00001 Validation Accuracy: 66.98%\n",
      "Epoch 66, CIFAR-10 Batch 4:  Loss:    0.00002 Validation Accuracy: 66.66%\n",
      "Epoch 66, CIFAR-10 Batch 5:  Loss:    0.00024 Validation Accuracy: 66.30%\n",
      "Epoch 67, CIFAR-10 Batch 1:  Loss:    0.00004 Validation Accuracy: 66.72%\n",
      "Epoch 67, CIFAR-10 Batch 2:  Loss:    0.00002 Validation Accuracy: 66.14%\n",
      "Epoch 67, CIFAR-10 Batch 3:  Loss:    0.00000 Validation Accuracy: 65.50%\n",
      "Epoch 67, CIFAR-10 Batch 4:  Loss:    0.00001 Validation Accuracy: 66.74%\n",
      "Epoch 67, CIFAR-10 Batch 5:  Loss:    0.00024 Validation Accuracy: 66.78%\n",
      "Epoch 68, CIFAR-10 Batch 1:  Loss:    0.00001 Validation Accuracy: 66.58%\n",
      "Epoch 68, CIFAR-10 Batch 2:  Loss:    0.00001 Validation Accuracy: 65.72%\n",
      "Epoch 68, CIFAR-10 Batch 3:  Loss:    0.00000 Validation Accuracy: 66.02%\n",
      "Epoch 68, CIFAR-10 Batch 4:  Loss:    0.00006 Validation Accuracy: 66.84%\n",
      "Epoch 68, CIFAR-10 Batch 5:  Loss:    0.00002 Validation Accuracy: 67.14%\n",
      "Epoch 69, CIFAR-10 Batch 1:  Loss:    0.00002 Validation Accuracy: 66.18%\n",
      "Epoch 69, CIFAR-10 Batch 2:  Loss:    0.00000 Validation Accuracy: 65.68%\n",
      "Epoch 69, CIFAR-10 Batch 3:  Loss:    0.00000 Validation Accuracy: 65.32%\n",
      "Epoch 69, CIFAR-10 Batch 4:  Loss:    0.00020 Validation Accuracy: 64.90%\n",
      "Epoch 69, CIFAR-10 Batch 5:  Loss:    0.00003 Validation Accuracy: 66.38%\n",
      "Epoch 70, CIFAR-10 Batch 1:  Loss:    0.00010 Validation Accuracy: 65.18%\n",
      "Epoch 70, CIFAR-10 Batch 2:  Loss:    0.00001 Validation Accuracy: 66.02%\n",
      "Epoch 70, CIFAR-10 Batch 3:  Loss:    0.00005 Validation Accuracy: 66.36%\n",
      "Epoch 70, CIFAR-10 Batch 4:  Loss:    0.00001 Validation Accuracy: 66.26%\n",
      "Epoch 70, CIFAR-10 Batch 5:  Loss:    0.00000 Validation Accuracy: 66.62%\n",
      "Epoch 71, CIFAR-10 Batch 1:  Loss:    0.00001 Validation Accuracy: 67.00%\n",
      "Epoch 71, CIFAR-10 Batch 2:  Loss:    0.00000 Validation Accuracy: 66.30%\n",
      "Epoch 71, CIFAR-10 Batch 3:  Loss:    0.00000 Validation Accuracy: 65.70%\n",
      "Epoch 71, CIFAR-10 Batch 4:  Loss:    0.00008 Validation Accuracy: 66.20%\n",
      "Epoch 71, CIFAR-10 Batch 5:  Loss:    0.00002 Validation Accuracy: 66.60%\n",
      "Epoch 72, CIFAR-10 Batch 1:  Loss:    0.00009 Validation Accuracy: 66.64%\n",
      "Epoch 72, CIFAR-10 Batch 2:  Loss:    0.00001 Validation Accuracy: 65.80%\n",
      "Epoch 72, CIFAR-10 Batch 3:  Loss:    0.00001 Validation Accuracy: 66.30%\n",
      "Epoch 72, CIFAR-10 Batch 4:  Loss:    0.00002 Validation Accuracy: 66.32%\n",
      "Epoch 72, CIFAR-10 Batch 5:  Loss:    0.00019 Validation Accuracy: 66.66%\n",
      "Epoch 73, CIFAR-10 Batch 1:  Loss:    0.00004 Validation Accuracy: 66.62%\n",
      "Epoch 73, CIFAR-10 Batch 2:  Loss:    0.00002 Validation Accuracy: 66.08%\n",
      "Epoch 73, CIFAR-10 Batch 3:  Loss:    0.00002 Validation Accuracy: 66.58%\n",
      "Epoch 73, CIFAR-10 Batch 4:  Loss:    0.00320 Validation Accuracy: 64.58%\n",
      "Epoch 73, CIFAR-10 Batch 5:  Loss:    0.00012 Validation Accuracy: 66.30%\n",
      "Epoch 74, CIFAR-10 Batch 1:  Loss:    0.00005 Validation Accuracy: 64.76%\n",
      "Epoch 74, CIFAR-10 Batch 2:  Loss:    0.00001 Validation Accuracy: 66.86%\n",
      "Epoch 74, CIFAR-10 Batch 3:  Loss:    0.00000 Validation Accuracy: 65.28%\n",
      "Epoch 74, CIFAR-10 Batch 4:  Loss:    0.00003 Validation Accuracy: 65.66%\n",
      "Epoch 74, CIFAR-10 Batch 5:  Loss:    0.00014 Validation Accuracy: 65.84%\n",
      "Epoch 75, CIFAR-10 Batch 1:  Loss:    0.00003 Validation Accuracy: 66.22%\n",
      "Epoch 75, CIFAR-10 Batch 2:  Loss:    0.00004 Validation Accuracy: 65.96%\n",
      "Epoch 75, CIFAR-10 Batch 3:  Loss:    0.00000 Validation Accuracy: 66.90%\n",
      "Epoch 75, CIFAR-10 Batch 4:  Loss:    0.00000 Validation Accuracy: 66.32%\n",
      "Epoch 75, CIFAR-10 Batch 5:  Loss:    0.00004 Validation Accuracy: 66.72%\n",
      "Epoch 76, CIFAR-10 Batch 1:  Loss:    0.00001 Validation Accuracy: 66.16%\n",
      "Epoch 76, CIFAR-10 Batch 2:  Loss:    0.00007 Validation Accuracy: 65.96%\n",
      "Epoch 76, CIFAR-10 Batch 3:  Loss:    0.00000 Validation Accuracy: 66.10%\n",
      "Epoch 76, CIFAR-10 Batch 4:  Loss:    0.00040 Validation Accuracy: 65.92%\n",
      "Epoch 76, CIFAR-10 Batch 5:  Loss:    0.00001 Validation Accuracy: 66.32%\n",
      "Epoch 77, CIFAR-10 Batch 1:  Loss:    0.00001 Validation Accuracy: 65.38%\n",
      "Epoch 77, CIFAR-10 Batch 2:  Loss:    0.00000 Validation Accuracy: 66.06%\n",
      "Epoch 77, CIFAR-10 Batch 3:  Loss:    0.00000 Validation Accuracy: 66.36%\n",
      "Epoch 77, CIFAR-10 Batch 4:  Loss:    0.00023 Validation Accuracy: 65.58%\n",
      "Epoch 77, CIFAR-10 Batch 5:  Loss:    0.00134 Validation Accuracy: 66.36%\n",
      "Epoch 78, CIFAR-10 Batch 1:  Loss:    0.00019 Validation Accuracy: 65.34%\n",
      "Epoch 78, CIFAR-10 Batch 2:  Loss:    0.00007 Validation Accuracy: 66.00%\n",
      "Epoch 78, CIFAR-10 Batch 3:  Loss:    0.00002 Validation Accuracy: 65.14%\n",
      "Epoch 78, CIFAR-10 Batch 4:  Loss:    0.00019 Validation Accuracy: 66.14%\n",
      "Epoch 78, CIFAR-10 Batch 5:  Loss:    0.00014 Validation Accuracy: 66.28%\n",
      "Epoch 79, CIFAR-10 Batch 1:  Loss:    0.00006 Validation Accuracy: 66.00%\n",
      "Epoch 79, CIFAR-10 Batch 2:  Loss:    0.00005 Validation Accuracy: 65.60%\n",
      "Epoch 79, CIFAR-10 Batch 3:  Loss:    0.00000 Validation Accuracy: 65.46%\n",
      "Epoch 79, CIFAR-10 Batch 4:  Loss:    0.00008 Validation Accuracy: 66.76%\n",
      "Epoch 79, CIFAR-10 Batch 5:  Loss:    0.00001 Validation Accuracy: 66.82%\n",
      "Epoch 80, CIFAR-10 Batch 1:  Loss:    0.00026 Validation Accuracy: 66.56%\n",
      "Epoch 80, CIFAR-10 Batch 2:  Loss:    0.00001 Validation Accuracy: 64.96%\n",
      "Epoch 80, CIFAR-10 Batch 3:  Loss:    0.00006 Validation Accuracy: 66.30%\n",
      "Epoch 80, CIFAR-10 Batch 4:  Loss:    0.00020 Validation Accuracy: 66.06%\n",
      "Epoch 80, CIFAR-10 Batch 5:  Loss:    0.00000 Validation Accuracy: 67.00%\n",
      "Epoch 81, CIFAR-10 Batch 1:  Loss:    0.00054 Validation Accuracy: 65.20%\n",
      "Epoch 81, CIFAR-10 Batch 2:  Loss:    0.00000 Validation Accuracy: 67.14%\n",
      "Epoch 81, CIFAR-10 Batch 3:  Loss:    0.00001 Validation Accuracy: 66.60%\n",
      "Epoch 81, CIFAR-10 Batch 4:  Loss:    0.00012 Validation Accuracy: 65.58%\n",
      "Epoch 81, CIFAR-10 Batch 5:  Loss:    0.00010 Validation Accuracy: 66.92%\n",
      "Epoch 82, CIFAR-10 Batch 1:  Loss:    0.00001 Validation Accuracy: 66.58%\n",
      "Epoch 82, CIFAR-10 Batch 2:  Loss:    0.00002 Validation Accuracy: 65.92%\n",
      "Epoch 82, CIFAR-10 Batch 3:  Loss:    0.00040 Validation Accuracy: 64.94%\n",
      "Epoch 82, CIFAR-10 Batch 4:  Loss:    0.00023 Validation Accuracy: 65.86%\n",
      "Epoch 82, CIFAR-10 Batch 5:  Loss:    0.00012 Validation Accuracy: 66.30%\n",
      "Epoch 83, CIFAR-10 Batch 1:  Loss:    0.00003 Validation Accuracy: 65.06%\n",
      "Epoch 83, CIFAR-10 Batch 2:  Loss:    0.00000 Validation Accuracy: 66.40%\n",
      "Epoch 83, CIFAR-10 Batch 3:  Loss:    0.00000 Validation Accuracy: 66.18%\n",
      "Epoch 83, CIFAR-10 Batch 4:  Loss:    0.00001 Validation Accuracy: 67.10%\n",
      "Epoch 83, CIFAR-10 Batch 5:  Loss:    0.00000 Validation Accuracy: 66.16%\n",
      "Epoch 84, CIFAR-10 Batch 1:  Loss:    0.00008 Validation Accuracy: 65.74%\n",
      "Epoch 84, CIFAR-10 Batch 2:  Loss:    0.00001 Validation Accuracy: 66.52%\n",
      "Epoch 84, CIFAR-10 Batch 3:  Loss:    0.00001 Validation Accuracy: 65.56%\n",
      "Epoch 84, CIFAR-10 Batch 4:  Loss:    0.00003 Validation Accuracy: 65.10%\n",
      "Epoch 84, CIFAR-10 Batch 5:  Loss:    0.00000 Validation Accuracy: 66.22%\n",
      "Epoch 85, CIFAR-10 Batch 1:  Loss:    0.00009 Validation Accuracy: 65.50%\n",
      "Epoch 85, CIFAR-10 Batch 2:  Loss:    0.00009 Validation Accuracy: 64.88%\n",
      "Epoch 85, CIFAR-10 Batch 3:  Loss:    0.00000 Validation Accuracy: 66.02%\n",
      "Epoch 85, CIFAR-10 Batch 4:  Loss:    0.00005 Validation Accuracy: 66.44%\n",
      "Epoch 85, CIFAR-10 Batch 5:  Loss:    0.00023 Validation Accuracy: 66.80%\n",
      "Epoch 86, CIFAR-10 Batch 1:  Loss:    0.00003 Validation Accuracy: 66.34%\n",
      "Epoch 86, CIFAR-10 Batch 2:  Loss:    0.00003 Validation Accuracy: 65.76%\n",
      "Epoch 86, CIFAR-10 Batch 3:  Loss:    0.00000 Validation Accuracy: 66.36%\n",
      "Epoch 86, CIFAR-10 Batch 4:  Loss:    0.00005 Validation Accuracy: 65.66%\n",
      "Epoch 86, CIFAR-10 Batch 5:  Loss:    0.00003 Validation Accuracy: 66.62%\n",
      "Epoch 87, CIFAR-10 Batch 1:  Loss:    0.00008 Validation Accuracy: 66.40%\n",
      "Epoch 87, CIFAR-10 Batch 2:  Loss:    0.00003 Validation Accuracy: 65.60%\n",
      "Epoch 87, CIFAR-10 Batch 3:  Loss:    0.00000 Validation Accuracy: 66.52%\n",
      "Epoch 87, CIFAR-10 Batch 4:  Loss:    0.00003 Validation Accuracy: 66.52%\n",
      "Epoch 87, CIFAR-10 Batch 5:  Loss:    0.00237 Validation Accuracy: 65.28%\n",
      "Epoch 88, CIFAR-10 Batch 1:  Loss:    0.00006 Validation Accuracy: 66.58%\n",
      "Epoch 88, CIFAR-10 Batch 2:  Loss:    0.00002 Validation Accuracy: 65.66%\n",
      "Epoch 88, CIFAR-10 Batch 3:  Loss:    0.00000 Validation Accuracy: 66.36%\n",
      "Epoch 88, CIFAR-10 Batch 4:  Loss:    0.00000 Validation Accuracy: 66.84%\n",
      "Epoch 88, CIFAR-10 Batch 5:  Loss:    0.00000 Validation Accuracy: 66.80%\n",
      "Epoch 89, CIFAR-10 Batch 1:  Loss:    0.00003 Validation Accuracy: 64.52%\n",
      "Epoch 89, CIFAR-10 Batch 2:  Loss:    0.00000 Validation Accuracy: 66.36%\n",
      "Epoch 89, CIFAR-10 Batch 3:  Loss:    0.00001 Validation Accuracy: 66.06%\n",
      "Epoch 89, CIFAR-10 Batch 4:  Loss:    0.00002 Validation Accuracy: 65.70%\n",
      "Epoch 89, CIFAR-10 Batch 5:  Loss:    0.00004 Validation Accuracy: 65.24%\n",
      "Epoch 90, CIFAR-10 Batch 1:  Loss:    0.00003 Validation Accuracy: 66.06%\n",
      "Epoch 90, CIFAR-10 Batch 2:  Loss:    0.00017 Validation Accuracy: 64.10%\n",
      "Epoch 90, CIFAR-10 Batch 3:  Loss:    0.00001 Validation Accuracy: 65.34%\n",
      "Epoch 90, CIFAR-10 Batch 4:  Loss:    0.00000 Validation Accuracy: 66.22%\n",
      "Epoch 90, CIFAR-10 Batch 5:  Loss:    0.00000 Validation Accuracy: 66.32%\n",
      "Epoch 91, CIFAR-10 Batch 1:  Loss:    0.00006 Validation Accuracy: 65.50%\n",
      "Epoch 91, CIFAR-10 Batch 2:  Loss:    0.00006 Validation Accuracy: 66.74%\n",
      "Epoch 91, CIFAR-10 Batch 3:  Loss:    0.00000 Validation Accuracy: 65.78%\n",
      "Epoch 91, CIFAR-10 Batch 4:  Loss:    0.00002 Validation Accuracy: 65.30%\n",
      "Epoch 91, CIFAR-10 Batch 5:  Loss:    0.00002 Validation Accuracy: 66.72%\n",
      "Epoch 92, CIFAR-10 Batch 1:  Loss:    0.00000 Validation Accuracy: 66.96%\n",
      "Epoch 92, CIFAR-10 Batch 2:  Loss:    0.00001 Validation Accuracy: 66.12%\n",
      "Epoch 92, CIFAR-10 Batch 3:  Loss:    0.00000 Validation Accuracy: 66.44%\n",
      "Epoch 92, CIFAR-10 Batch 4:  Loss:    0.00000 Validation Accuracy: 65.56%\n",
      "Epoch 92, CIFAR-10 Batch 5:  Loss:    0.00000 Validation Accuracy: 66.88%\n",
      "Epoch 93, CIFAR-10 Batch 1:  Loss:    0.00000 Validation Accuracy: 67.12%\n",
      "Epoch 93, CIFAR-10 Batch 2:  Loss:    0.00071 Validation Accuracy: 65.48%\n",
      "Epoch 93, CIFAR-10 Batch 3:  Loss:    0.00001 Validation Accuracy: 65.40%\n",
      "Epoch 93, CIFAR-10 Batch 4:  Loss:    0.00000 Validation Accuracy: 65.58%\n",
      "Epoch 93, CIFAR-10 Batch 5:  Loss:    0.00000 Validation Accuracy: 66.48%\n",
      "Epoch 94, CIFAR-10 Batch 1:  Loss:    0.00000 Validation Accuracy: 65.62%\n",
      "Epoch 94, CIFAR-10 Batch 2:  Loss:    0.00001 Validation Accuracy: 65.80%\n",
      "Epoch 94, CIFAR-10 Batch 3:  Loss:    0.00000 Validation Accuracy: 66.88%\n",
      "Epoch 94, CIFAR-10 Batch 4:  Loss:    0.00000 Validation Accuracy: 66.12%\n",
      "Epoch 94, CIFAR-10 Batch 5:  Loss:    0.00001 Validation Accuracy: 67.38%\n",
      "Epoch 95, CIFAR-10 Batch 1:  Loss:    0.00000 Validation Accuracy: 66.30%\n",
      "Epoch 95, CIFAR-10 Batch 2:  Loss:    0.00000 Validation Accuracy: 66.44%\n",
      "Epoch 95, CIFAR-10 Batch 3:  Loss:    0.00000 Validation Accuracy: 66.78%\n",
      "Epoch 95, CIFAR-10 Batch 4:  Loss:    0.00001 Validation Accuracy: 66.18%\n",
      "Epoch 95, CIFAR-10 Batch 5:  Loss:    0.00000 Validation Accuracy: 66.24%\n",
      "Epoch 96, CIFAR-10 Batch 1:  Loss:    0.00001 Validation Accuracy: 66.00%\n",
      "Epoch 96, CIFAR-10 Batch 2:  Loss:    0.00000 Validation Accuracy: 66.92%\n",
      "Epoch 96, CIFAR-10 Batch 3:  Loss:    0.00000 Validation Accuracy: 66.02%\n",
      "Epoch 96, CIFAR-10 Batch 4:  Loss:    0.00000 Validation Accuracy: 66.54%\n",
      "Epoch 96, CIFAR-10 Batch 5:  Loss:    0.00030 Validation Accuracy: 65.62%\n",
      "Epoch 97, CIFAR-10 Batch 1:  Loss:    0.00012 Validation Accuracy: 64.92%\n",
      "Epoch 97, CIFAR-10 Batch 2:  Loss:    0.00000 Validation Accuracy: 65.56%\n",
      "Epoch 97, CIFAR-10 Batch 3:  Loss:    0.00000 Validation Accuracy: 64.88%\n",
      "Epoch 97, CIFAR-10 Batch 4:  Loss:    0.00000 Validation Accuracy: 66.28%\n",
      "Epoch 97, CIFAR-10 Batch 5:  Loss:    0.00010 Validation Accuracy: 66.18%\n",
      "Epoch 98, CIFAR-10 Batch 1:  Loss:    0.00003 Validation Accuracy: 65.46%\n",
      "Epoch 98, CIFAR-10 Batch 2:  Loss:    0.00000 Validation Accuracy: 66.40%\n",
      "Epoch 98, CIFAR-10 Batch 3:  Loss:    0.00000 Validation Accuracy: 64.62%\n",
      "Epoch 98, CIFAR-10 Batch 4:  Loss:    0.00031 Validation Accuracy: 65.16%\n",
      "Epoch 98, CIFAR-10 Batch 5:  Loss:    0.00000 Validation Accuracy: 66.18%\n",
      "Epoch 99, CIFAR-10 Batch 1:  Loss:    0.00059 Validation Accuracy: 65.04%\n",
      "Epoch 99, CIFAR-10 Batch 2:  Loss:    0.00000 Validation Accuracy: 66.42%\n",
      "Epoch 99, CIFAR-10 Batch 3:  Loss:    0.00000 Validation Accuracy: 66.52%\n",
      "Epoch 99, CIFAR-10 Batch 4:  Loss:    0.00006 Validation Accuracy: 65.64%\n",
      "Epoch 99, CIFAR-10 Batch 5:  Loss:    0.00005 Validation Accuracy: 65.64%\n",
      "Epoch 100, CIFAR-10 Batch 1:  Loss:    0.00000 Validation Accuracy: 66.08%\n",
      "Epoch 100, CIFAR-10 Batch 2:  Loss:    0.00000 Validation Accuracy: 65.98%\n",
      "Epoch 100, CIFAR-10 Batch 3:  Loss:    0.00000 Validation Accuracy: 65.16%\n",
      "Epoch 100, CIFAR-10 Batch 4:  Loss:    0.00005 Validation Accuracy: 66.18%\n",
      "Epoch 100, CIFAR-10 Batch 5:  Loss:    0.00005 Validation Accuracy: 65.16%\n"
     ]
    }
   ],
   "source": [
    "\"\"\"\n",
    "DON'T MODIFY ANYTHING IN THIS CELL\n",
    "\"\"\"\n",
    "save_model_path = './image_classification'\n",
    "\n",
    "print('Training...')\n",
    "with tf.Session() as sess:\n",
    "    # Initializing the variables\n",
    "    sess.run(tf.global_variables_initializer())\n",
    "    \n",
    "    # Training cycle\n",
    "    for epoch in range(epochs):\n",
    "        # Loop over all batches\n",
    "        n_batches = 5\n",
    "        for batch_i in range(1, n_batches + 1):\n",
    "            for batch_features, batch_labels in helper.load_preprocess_training_batch(batch_i, batch_size):\n",
    "                train_neural_network(sess, optimizer, keep_probability, batch_features, batch_labels)\n",
    "            print('Epoch {:>2}, CIFAR-10 Batch {}:  '.format(epoch + 1, batch_i), end='')\n",
    "            print_stats(sess, batch_features, batch_labels, cost, accuracy)\n",
    "            \n",
    "    # Save Model\n",
    "    saver = tf.train.Saver()\n",
    "    save_path = saver.save(sess, save_model_path)"
   ]
  },
  {
   "cell_type": "markdown",
   "metadata": {
    "deletable": true,
    "editable": true
   },
   "source": [
    "# Checkpoint\n",
    "The model has been saved to disk.\n",
    "## Test Model\n",
    "Test your model against the test dataset.  This will be your final accuracy. You should have an accuracy greater than 50%. If you don't, keep tweaking the model architecture and parameters."
   ]
  },
  {
   "cell_type": "code",
   "execution_count": 62,
   "metadata": {
    "collapsed": false,
    "deletable": true,
    "editable": true
   },
   "outputs": [
    {
     "name": "stdout",
     "output_type": "stream",
     "text": [
      "Testing Accuracy: 0.6383504746835443\n",
      "\n"
     ]
    },
    {
     "data": {
      "image/png": "[encoded data removed]",
      "text/plain": [
       "<matplotlib.figure.Figure at 0x7ff01c2459b0>"
      ]
     },
     "metadata": {
      "image/png": {
       "height": 319,
       "width": 355
      }
     },
     "output_type": "display_data"
    }
   ],
   "source": [
    "\"\"\"\n",
    "DON'T MODIFY ANYTHING IN THIS CELL\n",
    "\"\"\"\n",
    "%matplotlib inline\n",
    "%config InlineBackend.figure_format = 'retina'\n",
    "\n",
    "import tensorflow as tf\n",
    "import pickle\n",
    "import helper\n",
    "import random\n",
    "\n",
    "# Set batch size if not already set\n",
    "try:\n",
    "    if batch_size:\n",
    "        pass\n",
    "except NameError:\n",
    "    batch_size = 64\n",
    "\n",
    "save_model_path = './image_classification'\n",
    "n_samples = 4\n",
    "top_n_predictions = 3\n",
    "\n",
    "def test_model():\n",
    "    \"\"\"\n",
    "    Test the saved model against the test dataset\n",
    "    \"\"\"\n",
    "\n",
    "    test_features, test_labels = pickle.load(open('preprocess_training.p', mode='rb'))\n",
    "    loaded_graph = tf.Graph()\n",
    "\n",
    "    with tf.Session(graph=loaded_graph) as sess:\n",
    "        # Load model\n",
    "        loader = tf.train.import_meta_graph(save_model_path + '.meta')\n",
    "        loader.restore(sess, save_model_path)\n",
    "\n",
    "        # Get Tensors from loaded model\n",
    "        loaded_x = loaded_graph.get_tensor_by_name('x:0')\n",
    "        loaded_y = loaded_graph.get_tensor_by_name('y:0')\n",
    "        loaded_keep_prob = loaded_graph.get_tensor_by_name('keep_prob:0')\n",
    "        loaded_logits = loaded_graph.get_tensor_by_name('logits:0')\n",
    "        loaded_acc = loaded_graph.get_tensor_by_name('accuracy:0')\n",
    "        \n",
    "        # Get accuracy in batches for memory limitations\n",
    "        test_batch_acc_total = 0\n",
    "        test_batch_count = 0\n",
    "        \n",
    "        for train_feature_batch, train_label_batch in helper.batch_features_labels(test_features, test_labels, batch_size):\n",
    "            test_batch_acc_total += sess.run(\n",
    "                loaded_acc,\n",
    "                feed_dict={loaded_x: train_feature_batch, loaded_y: train_label_batch, loaded_keep_prob: 1.0})\n",
    "            test_batch_count += 1\n",
    "\n",
    "        print('Testing Accuracy: {}\\n'.format(test_batch_acc_total/test_batch_count))\n",
    "\n",
    "        # Print Random Samples\n",
    "        random_test_features, random_test_labels = tuple(zip(*random.sample(list(zip(test_features, test_labels)), n_samples)))\n",
    "        random_test_predictions = sess.run(\n",
    "            tf.nn.top_k(tf.nn.softmax(loaded_logits), top_n_predictions),\n",
    "            feed_dict={loaded_x: random_test_features, loaded_y: random_test_labels, loaded_keep_prob: 1.0})\n",
    "        helper.display_image_predictions(random_test_features, random_test_labels, random_test_predictions)\n",
    "\n",
    "\n",
    "test_model()"
   ]
  },
  {
   "cell_type": "markdown",
   "metadata": {
    "deletable": true,
    "editable": true
   },
   "source": [
    "## Why 50-70% Accuracy?\n",
    "You might be wondering why you can't get an accuracy any higher. First things first, 50% isn't bad for a simple CNN.  Pure guessing would get you 10% accuracy. However, you might notice people are getting scores [well above 70%](http://rodrigob.github.io/are_we_there_yet/build/classification_datasets_results.html#43494641522d3130).  That's because we haven't taught you all there is to know about neural networks. We still need to cover a few more techniques.\n",
    "## Submitting This Project\n",
    "When submitting this project, make sure to run all the cells before saving the notebook.  Save the notebook file as \"dlnd_image_classification.ipynb\" and save it as a HTML file under \"File\" -> \"Download as\".  Include the \"helper.py\" and \"problem_unittests.py\" files in your submission."
   ]
  },
  {
   "cell_type": "code",
   "execution_count": null,
   "metadata": {
    "collapsed": true
   },
   "outputs": [],
   "source": []
  }
 ],
 "metadata": {
  "kernelspec": {
   "display_name": "Python 3",
   "language": "python",
   "name": "python3"
  },
  "language_info": {
   "codemirror_mode": {
    "name": "ipython",
    "version": 3
   },
   "file_extension": ".py",
   "mimetype": "text/x-python",
   "name": "python",
   "nbconvert_exporter": "python",
   "pygments_lexer": "ipython3",
   "version": "3.5.3"
  }
 },
 "nbformat": 4,
 "nbformat_minor": 0
}
